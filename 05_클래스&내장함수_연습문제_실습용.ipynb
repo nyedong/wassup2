{
 "cells": [
  {
   "cell_type": "markdown",
   "id": "f1fdca32",
   "metadata": {
    "id": "f1fdca32"
   },
   "source": [
    "# Q1. 다음은 Calculator 클래스이다.\n",
    "```python\n",
    "class Calculator:\n",
    "    def __init__(self):\n",
    "        self.value = 0\n",
    "    def add(self, val):\n",
    "        self.value += val\n",
    "```\n",
    "위 클래스를 상속하는 UpgradeCalculator를 만들고 값을 뺄 수 잇는 minus 메서드를 추가해보자.   \n",
    "즉 다음과 같이 동작하는 클래스를 만들어야 한다.\n",
    "```python\n",
    "cal = UpgradeCalculator()\n",
    "cal.add(10)\n",
    "cal.minus(7)\n",
    "print(cal.calue) # 10에서 7을 뺀 3을 출력\n",
    "```"
   ]
  },
  {
   "cell_type": "code",
   "execution_count": 2,
   "id": "f3345c8c",
   "metadata": {
    "id": "f3345c8c"
   },
   "outputs": [],
   "source": [
    "class Calculator:\n",
    "    def __init__(self):\n",
    "        self.value = 0\n",
    "    def add(self, val):\n",
    "        self.value += val\n",
    "        \n",
    "class UpgradeCalculator(Calculator):\n",
    "    def __init__(self):\n",
    "        self.value = 0\n",
    "    def add(self, val):\n",
    "        self.value += val\n",
    "        \n",
    "    def minus(self,v):\n",
    "        self.value -= v\n"
   ]
  },
  {
   "cell_type": "code",
   "execution_count": 4,
   "id": "5eb4c314",
   "metadata": {},
   "outputs": [
    {
     "name": "stdout",
     "output_type": "stream",
     "text": [
      "3\n"
     ]
    }
   ],
   "source": [
    "cal = UpgradeCalculator()\n",
    "cal.add(10)\n",
    "cal.minus(7)\n",
    "print(cal.value) "
   ]
  },
  {
   "cell_type": "markdown",
   "id": "75806738",
   "metadata": {
    "id": "75806738"
   },
   "source": [
    "# Q2. 객체 변수 value가 100 이상의 값은 가질 수 없도록 제한하는 MaxLimitCalculator 클래스를 만들어 보자. 즉 다음과 같이 동작해야 한다.\n",
    "```python\n",
    "cal = MaxLimitCalculator()\n",
    "cal.add(50) # 50 더하기\n",
    "cal.add(60) # 60 더하기\n",
    "\n",
    "print(cal.value) # 100 출력\n",
    "```\n",
    "\n",
    "단 반드시 다음과 같은 calculator 클래스를 상속해서 만들어야 한다.\n",
    "```python\n",
    "class Calculator:\n",
    "    def __init__(self):\n",
    "        self.value = 0\n",
    "    def add(self, val):\n",
    "        self.value += val\n",
    "```"
   ]
  },
  {
   "cell_type": "code",
   "execution_count": 24,
   "id": "d5bc73e1",
   "metadata": {
    "id": "d5bc73e1"
   },
   "outputs": [],
   "source": [
    "class MaxLimitCalculator(Calculator):\n",
    "    def __init__(self):\n",
    "        self.value = 0\n",
    "    def add(self, val):\n",
    "        self.value += val\n",
    "        if self.value > 100:\n",
    "            self.value = 100"
   ]
  },
  {
   "cell_type": "code",
   "execution_count": 25,
   "id": "219bf7d2",
   "metadata": {},
   "outputs": [
    {
     "name": "stdout",
     "output_type": "stream",
     "text": [
      "100\n"
     ]
    }
   ],
   "source": [
    "cal = MaxLimitCalculator()\n",
    "cal.add(50) # 50 더하기\n",
    "cal.add(60)\n",
    "print(cal.value)"
   ]
  },
  {
   "cell_type": "markdown",
   "id": "7286e434",
   "metadata": {
    "id": "7286e434"
   },
   "source": [
    "# Q3. 다음 결과를 예측해 보자.\n",
    "```python\n",
    "# 1.\n",
    ">>> all({1, 2, abs(-3)-3})\n",
    "\n",
    "# 2.\n",
    ">>> chr(ord('a')) == 'a'\n",
    "```"
   ]
  },
  {
   "cell_type": "code",
   "execution_count": 26,
   "id": "b686ab29",
   "metadata": {
    "id": "b686ab29"
   },
   "outputs": [],
   "source": [
    "# 1 : False\n",
    "# 2 : True"
   ]
  },
  {
   "cell_type": "markdown",
   "id": "ff058604",
   "metadata": {
    "id": "ff058604"
   },
   "source": [
    "# Q4. filter와 lambda를 사용하여 리스트 [1, -2, 3, -5, 8, -3]에서 음수를 모두 제거해 보자."
   ]
  },
  {
   "cell_type": "code",
   "execution_count": 31,
   "id": "c035c622",
   "metadata": {
    "id": "4da2f202"
   },
   "outputs": [
    {
     "name": "stdout",
     "output_type": "stream",
     "text": [
      "[1, 3, 8]\n"
     ]
    }
   ],
   "source": [
    "result = list(filter(lambda x : x>0,[1, -2, 3, -5, 8, -3]) )\n",
    "print(result)"
   ]
  },
  {
   "cell_type": "markdown",
   "id": "3810c0b8",
   "metadata": {
    "id": "3810c0b8"
   },
   "source": [
    "# Q5. 234라는 10진수의 16진수는 다음과 같이 구할 수 있다.\n",
    "```python\n",
    ">>> hex(234)\n",
    "'0xea'\n",
    "```\n",
    "이번에는 반대로 16진수 문자열 0xea를 10진수로 변경해 보자."
   ]
  },
  {
   "cell_type": "code",
   "execution_count": 32,
   "id": "c94be636",
   "metadata": {
    "id": "c94be636"
   },
   "outputs": [
    {
     "data": {
      "text/plain": [
       "234"
      ]
     },
     "execution_count": 32,
     "metadata": {},
     "output_type": "execute_result"
    }
   ],
   "source": [
    "int('0xea',16)"
   ]
  },
  {
   "cell_type": "markdown",
   "id": "6c563fc7",
   "metadata": {
    "id": "6c563fc7"
   },
   "source": [
    "# Q6. map과 lambda를 사용하여 [1, 2, 3, 4] 리스트의 각 요솟값에 3이 곱해진 리스트 [3, 6, 9, 12]를 만들어 보자."
   ]
  },
  {
   "cell_type": "code",
   "execution_count": 35,
   "id": "f303e800",
   "metadata": {
    "id": "f303e800"
   },
   "outputs": [
    {
     "data": {
      "text/plain": [
       "[3, 6, 9, 12]"
      ]
     },
     "execution_count": 35,
     "metadata": {},
     "output_type": "execute_result"
    }
   ],
   "source": [
    "result = list(map(lambda x : x * 3, [1,2,3,4]))\n",
    "result"
   ]
  },
  {
   "cell_type": "markdown",
   "id": "5abd78a0",
   "metadata": {
    "id": "5abd78a0"
   },
   "source": [
    "# Q7. 다음 리스트의 최댓값과 최솟값의 합을 구해 보자.\n",
    "[-8, 2, 7, 5, -3, 5, 0, 1]"
   ]
  },
  {
   "cell_type": "code",
   "execution_count": 37,
   "id": "4527968b",
   "metadata": {
    "id": "4527968b"
   },
   "outputs": [
    {
     "name": "stdout",
     "output_type": "stream",
     "text": [
      "7\n",
      "-8\n"
     ]
    }
   ],
   "source": [
    "print(max([-8, 2, 7, 5, -3, 5, 0, 1]))\n",
    "print(min([-8, 2, 7, 5, -3, 5, 0, 1]))"
   ]
  },
  {
   "cell_type": "markdown",
   "id": "b64ed240",
   "metadata": {
    "id": "b64ed240"
   },
   "source": [
    "# Q8. 17 / 3의 결과는 다음과 같다.\n",
    "```python\n",
    ">>> 17 / 3\n",
    "5.666666666667\n",
    "```\n",
    "위와 같은 결괏값 5.6666666666667을 소숫점 4자리까지만 반올림하여 표시해 보자."
   ]
  },
  {
   "cell_type": "code",
   "execution_count": 38,
   "id": "730d116a",
   "metadata": {
    "id": "730d116a"
   },
   "outputs": [
    {
     "data": {
      "text/plain": [
       "5.6667"
      ]
     },
     "execution_count": 38,
     "metadata": {},
     "output_type": "execute_result"
    }
   ],
   "source": [
    "round(17/3,4)"
   ]
  },
  {
   "cell_type": "markdown",
   "id": "6ae88f19",
   "metadata": {
    "id": "6ae88f19"
   },
   "source": [
    "# Q9. 다음과 같이 실행할 때 입력값을 모두 더하여 출력하는 스크립트(C:\\doit\\myargv.py)를 작성해 보자.\n",
    "```\n",
    "C:\\> cd doit\n",
    "C:\\dodit> python myargv.py 1 2 3 4 5 6 7 8 9 10\n",
    "```"
   ]
  },
  {
   "cell_type": "code",
   "execution_count": 46,
   "id": "93068ed8",
   "metadata": {
    "id": "93068ed8"
   },
   "outputs": [
    {
     "ename": "ValueError",
     "evalue": "invalid literal for int() with base 10: '-f'",
     "output_type": "error",
     "traceback": [
      "\u001b[1;31m---------------------------------------------------------------------------\u001b[0m",
      "\u001b[1;31mValueError\u001b[0m                                Traceback (most recent call last)",
      "Cell \u001b[1;32mIn[46], line 6\u001b[0m\n\u001b[0;32m      4\u001b[0m number \u001b[38;5;241m=\u001b[39m \u001b[38;5;241m0\u001b[39m\n\u001b[0;32m      5\u001b[0m \u001b[38;5;28;01mfor\u001b[39;00m i \u001b[38;5;129;01min\u001b[39;00m args:\n\u001b[1;32m----> 6\u001b[0m     number \u001b[38;5;241m+\u001b[39m\u001b[38;5;241m=\u001b[39m \u001b[38;5;28mint\u001b[39m(i)\n\u001b[0;32m      7\u001b[0m \u001b[38;5;28mprint\u001b[39m(number)\n",
      "\u001b[1;31mValueError\u001b[0m: invalid literal for int() with base 10: '-f'"
     ]
    }
   ],
   "source": []
  },
  {
   "cell_type": "code",
   "execution_count": 43,
   "id": "2d5d4989",
   "metadata": {},
   "outputs": [
    {
     "data": {
      "text/plain": [
       "'C:\\\\workspace\\\\WASSUP2\\\\python'"
      ]
     },
     "execution_count": 43,
     "metadata": {},
     "output_type": "execute_result"
    }
   ],
   "source": [
    "pwd"
   ]
  },
  {
   "cell_type": "markdown",
   "id": "ac41096a",
   "metadata": {
    "id": "ac41096a"
   },
   "source": [
    "# Q10. OS 모듈을 사용하여 다음과 같이 동작하도록 코드를 작성해 보자.\n",
    "1. C:\\doit 디렉터리로 이동한다.\n",
    "2. dir 명령을 실행하고 그 결과를 변수에 담는다.\n",
    "3. dir 명령의 결과를 출력한다."
   ]
  },
  {
   "cell_type": "code",
   "execution_count": 45,
   "id": "6cef3623",
   "metadata": {
    "id": "6cef3623"
   },
   "outputs": [
    {
     "name": "stdout",
     "output_type": "stream",
     "text": [
      " C 드라이브의 볼륨에는 이름이 없습니다.\n",
      " 볼륨 일련 번호: 261E-5264\n",
      "\n",
      " C:\\workspace\\WASSUP2\\python 디렉터리\n",
      "\n",
      "2024-03-12  오후 11:00    <DIR>          .\n",
      "2024-03-06  오후 03:19    <DIR>          ..\n",
      "2024-03-12  오후 03:25    <DIR>          .ipynb_checkpoints\n",
      "2024-02-28  오전 12:07            23,216 00_마크다운.ipynb\n",
      "2024-03-04  오후 06:44            10,240 01_자료형&변수_연습문제_실습용.ipynb\n",
      "2024-02-23  오전 11:40            19,526 0223.ipynb\n",
      "2024-03-06  오후 03:13             8,419 02_제어문_연습문제_실습용.ipynb\n",
      "2024-03-06  오후 01:45             7,390 03_코딩연습_전화번호프로그램_실습용.ipynb\n",
      "2024-03-07  오후 03:10             9,944 04_함수&입출력_연습문제_실습용.ipynb\n",
      "2024-03-12  오후 11:00            15,629 05_클래스&내장함수_연습문제_실습용.ipynb\n",
      "2024-03-07  오전 11:32                34 foo.txt\n",
      "2024-03-07  오후 12:09                34 test.txt\n",
      "2024-02-23  오후 02:09    <DIR>          Untitled Folder\n",
      "2024-02-29  오후 02:16            19,426 wikidocs_001~050.ipynb\n",
      "2024-03-04  오후 06:19            22,122 wikidocs_051~100.ipynb\n",
      "2024-03-05  오후 11:59            22,346 wikidocs_101~150.ipynb\n",
      "2024-03-06  오후 03:42            24,690 wikidocs_151~200.ipynb\n",
      "2024-03-08  오후 03:16            18,709 wikidocs_201~240.ipynb\n",
      "2024-03-11  오후 08:18            33,950 wikidocs_251~290.ipynb\n",
      "2024-03-12  오후 03:16             5,883 wikidocs_291~300.ipynb\n",
      "2024-03-04  오후 01:27            76,165 [1] 자료형.ipynb\n",
      "2024-03-06  오전 10:12            23,279 [2] 제어문.ipynb\n",
      "2024-03-08  오후 02:21            21,401 [3] 함수와 입출력.ipynb\n",
      "2024-03-12  오전 10:03            20,377 [4]클래스와 예외처리.ipynb\n",
      "2024-03-12  오후 12:01            26,265 [5] 내장함수와 라이브러리.ipynb\n",
      "2024-03-07  오전 11:30               333 새파일.txt\n",
      "              22개 파일             409,378 바이트\n",
      "               4개 디렉터리  257,007,845,376 바이트 남음\n",
      "\n"
     ]
    }
   ],
   "source": [
    "import os\n",
    "\n",
    "os.getcwd()\n",
    "os.system('dir')\n",
    "f = os.popen(\"dir\")\n",
    "print(f.read())"
   ]
  },
  {
   "cell_type": "markdown",
   "id": "e1df445d",
   "metadata": {
    "id": "e1df445d"
   },
   "source": [
    "# Q11. glob 모듈을 사용하여 C:\\doit 디렉터리의 파일 중 확장자가 .ipynb인 파일만 출력하는 프로그램을 작성해 보자."
   ]
  },
  {
   "cell_type": "code",
   "execution_count": 40,
   "id": "b69ab522",
   "metadata": {
    "id": "b69ab522"
   },
   "outputs": [
    {
     "name": "stdout",
     "output_type": "stream",
     "text": [
      "00_마크다운.ipynb\n",
      "01_자료형&변수_연습문제_실습용.ipynb\n",
      "0223.ipynb\n",
      "02_제어문_연습문제_실습용.ipynb\n",
      "03_코딩연습_전화번호프로그램_실습용.ipynb\n",
      "04_함수&입출력_연습문제_실습용.ipynb\n",
      "05_클래스&내장함수_연습문제_실습용.ipynb\n",
      "wikidocs_001~050.ipynb\n",
      "wikidocs_051~100.ipynb\n",
      "wikidocs_101~150.ipynb\n",
      "wikidocs_151~200.ipynb\n",
      "wikidocs_201~240.ipynb\n",
      "wikidocs_251~290.ipynb\n",
      "wikidocs_291~300.ipynb\n",
      "[1] 자료형.ipynb\n",
      "[2] 제어문.ipynb\n",
      "[3] 함수와 입출력.ipynb\n",
      "[4]클래스와 예외처리.ipynb\n",
      "[5] 내장함수와 라이브러리.ipynb\n"
     ]
    }
   ],
   "source": [
    "import glob\n",
    "\n",
    "a = glob.glob('C:/workspace/WASSUP2/python/*.ipynb')\n",
    "\n",
    "for i in a:\n",
    "    b = i.split('\\\\')[-1]\n",
    "    print(b)"
   ]
  },
  {
   "cell_type": "markdown",
   "id": "d7b91fea",
   "metadata": {
    "id": "d7b91fea"
   },
   "source": [
    "# Q12. time 모듈을 사용하여 현재 날짜와 시간을 다음과 같은 형식으로 출력해 보자.\n",
    "2018/04/03 17:20:32"
   ]
  },
  {
   "cell_type": "code",
   "execution_count": 41,
   "id": "e2a5f482",
   "metadata": {
    "id": "e2a5f482"
   },
   "outputs": [
    {
     "data": {
      "text/plain": [
       "'2024/03/12 22:27:10'"
      ]
     },
     "execution_count": 41,
     "metadata": {},
     "output_type": "execute_result"
    }
   ],
   "source": [
    "import time\n",
    "time.strftime('%Y/%m/%d %H:%M:%S', time.localtime(time.time()))"
   ]
  },
  {
   "cell_type": "markdown",
   "id": "393cd834",
   "metadata": {
    "id": "393cd834"
   },
   "source": [
    "# Q13. random 모듈을 사용하여 로또 번호 (1~45 사이의 숫자 6개)를 생성해보자(단 중복된 숫자가 있으면 안됨)."
   ]
  },
  {
   "cell_type": "code",
   "execution_count": 42,
   "id": "c4b093dc",
   "metadata": {
    "id": "c4b093dc"
   },
   "outputs": [
    {
     "name": "stdout",
     "output_type": "stream",
     "text": [
      "[22, 26, 4, 5, 31, 43]\n"
     ]
    }
   ],
   "source": [
    "import random\n",
    "lotto = []\n",
    "for i in range(6):\n",
    "    num = random.randint(1,45)\n",
    "    if num not in lotto:\n",
    "        lotto.append(num)\n",
    "\n",
    "print(lotto)"
   ]
  },
  {
   "cell_type": "markdown",
   "id": "ee89ff74",
   "metadata": {
    "id": "ee89ff74"
   },
   "source": [
    "\"성공은 매일 반복한 작은 노력들의 합이다.\"\n",
    "- 로버트 콜리어"
   ]
  }
 ],
 "metadata": {
  "colab": {
   "provenance": []
  },
  "kernelspec": {
   "display_name": "Python 3 (ipykernel)",
   "language": "python",
   "name": "python3"
  },
  "language_info": {
   "codemirror_mode": {
    "name": "ipython",
    "version": 3
   },
   "file_extension": ".py",
   "mimetype": "text/x-python",
   "name": "python",
   "nbconvert_exporter": "python",
   "pygments_lexer": "ipython3",
   "version": "3.11.5"
  },
  "toc": {
   "base_numbering": 1,
   "nav_menu": {},
   "number_sections": true,
   "sideBar": true,
   "skip_h1_title": false,
   "title_cell": "Table of Contents",
   "title_sidebar": "Contents",
   "toc_cell": false,
   "toc_position": {},
   "toc_section_display": true,
   "toc_window_display": false
  },
  "varInspector": {
   "cols": {
    "lenName": 16,
    "lenType": 16,
    "lenVar": 40
   },
   "kernels_config": {
    "python": {
     "delete_cmd_postfix": "",
     "delete_cmd_prefix": "del ",
     "library": "var_list.py",
     "varRefreshCmd": "print(var_dic_list())"
    },
    "r": {
     "delete_cmd_postfix": ") ",
     "delete_cmd_prefix": "rm(",
     "library": "var_list.r",
     "varRefreshCmd": "cat(var_dic_list()) "
    }
   },
   "types_to_exclude": [
    "module",
    "function",
    "builtin_function_or_method",
    "instance",
    "_Feature"
   ],
   "window_display": false
  }
 },
 "nbformat": 4,
 "nbformat_minor": 5
}
