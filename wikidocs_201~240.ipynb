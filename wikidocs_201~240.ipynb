{
 "cells": [
  {
   "cell_type": "code",
   "execution_count": 1,
   "id": "36b258fd",
   "metadata": {},
   "outputs": [
    {
     "name": "stdout",
     "output_type": "stream",
     "text": [
      "비트코인\n"
     ]
    }
   ],
   "source": [
    "# 201\n",
    "def print_coin():\n",
    "    print('비트코인')\n",
    "\n",
    "print_coin()"
   ]
  },
  {
   "cell_type": "code",
   "execution_count": 2,
   "id": "479dc174",
   "metadata": {},
   "outputs": [
    {
     "name": "stdout",
     "output_type": "stream",
     "text": [
      "비트코인\n"
     ]
    }
   ],
   "source": [
    "# 202\n",
    "a = print_coin()\n",
    "a"
   ]
  },
  {
   "cell_type": "code",
   "execution_count": 5,
   "id": "52e117df",
   "metadata": {},
   "outputs": [],
   "source": [
    "# 203\n",
    "def print_coins():\n",
    "    print('비트코인'*100)\n"
   ]
  },
  {
   "cell_type": "code",
   "execution_count": 7,
   "id": "e920fab7",
   "metadata": {},
   "outputs": [],
   "source": [
    "# 205\n",
    "# 함수 정의를 먼저 해준 후에 호출해야 함"
   ]
  },
  {
   "cell_type": "code",
   "execution_count": 8,
   "id": "494375df",
   "metadata": {},
   "outputs": [
    {
     "name": "stdout",
     "output_type": "stream",
     "text": [
      "A\n",
      "B\n",
      "C\n",
      "A\n",
      "B\n"
     ]
    }
   ],
   "source": [
    "# 206\n",
    "# A B C A B\n",
    "def message() :\n",
    "    print(\"A\")\n",
    "    print(\"B\")\n",
    "\n",
    "message()\n",
    "print(\"C\")\n",
    "message()\n"
   ]
  },
  {
   "cell_type": "code",
   "execution_count": 9,
   "id": "055a643b",
   "metadata": {},
   "outputs": [
    {
     "name": "stdout",
     "output_type": "stream",
     "text": [
      "A\n",
      "C\n",
      "B\n"
     ]
    }
   ],
   "source": [
    "# 207\n",
    "# A C B\n",
    "\n",
    "print(\"A\")\n",
    "\n",
    "def message() :\n",
    "    print(\"B\")\n",
    "\n",
    "print(\"C\")\n",
    "message()\n"
   ]
  },
  {
   "cell_type": "code",
   "execution_count": 10,
   "id": "9db449e3",
   "metadata": {},
   "outputs": [
    {
     "name": "stdout",
     "output_type": "stream",
     "text": [
      "A\n",
      "C\n",
      "B\n",
      "E\n",
      "D\n"
     ]
    }
   ],
   "source": [
    "# 208\n",
    "# A C B E D\n",
    "\n",
    "print(\"A\")\n",
    "def message1() :\n",
    "    print(\"B\")\n",
    "print(\"C\")\n",
    "def message2() :\n",
    "    print(\"D\")\n",
    "message1()\n",
    "print(\"E\")\n",
    "message2()\n"
   ]
  },
  {
   "cell_type": "code",
   "execution_count": 11,
   "id": "16a9fdc3",
   "metadata": {},
   "outputs": [
    {
     "name": "stdout",
     "output_type": "stream",
     "text": [
      "B\n",
      "A\n"
     ]
    }
   ],
   "source": [
    "# 209\n",
    "# B A\n",
    "\n",
    "def message1():\n",
    "    print(\"A\")\n",
    "\n",
    "def message2():\n",
    "    print(\"B\")\n",
    "    message1()\n",
    "\n",
    "message2()\n"
   ]
  },
  {
   "cell_type": "code",
   "execution_count": 12,
   "id": "ca1bfe94",
   "metadata": {},
   "outputs": [
    {
     "name": "stdout",
     "output_type": "stream",
     "text": [
      "B\n",
      "C\n",
      "B\n",
      "C\n",
      "B\n",
      "C\n",
      "A\n"
     ]
    }
   ],
   "source": [
    "# 210\n",
    "# B C B C B C A\n",
    "def message1():\n",
    "    print(\"A\")\n",
    "\n",
    "def message2():\n",
    "    print(\"B\")\n",
    "\n",
    "def message3():\n",
    "    for i in range (3) :\n",
    "        message2()\n",
    "        print(\"C\")\n",
    "    message1()\n",
    "\n",
    "message3()\n"
   ]
  },
  {
   "cell_type": "code",
   "execution_count": 13,
   "id": "cea5578f",
   "metadata": {},
   "outputs": [
    {
     "name": "stdout",
     "output_type": "stream",
     "text": [
      "안녕\n",
      "Hi\n"
     ]
    }
   ],
   "source": [
    "# 211\n",
    "#  안녕 Hi\n",
    "\n",
    "def 함수(문자열) :\n",
    "    print(문자열)\n",
    "\n",
    "함수(\"안녕\")\n",
    "함수(\"Hi\")\n"
   ]
  },
  {
   "cell_type": "code",
   "execution_count": 14,
   "id": "e0dce19f",
   "metadata": {},
   "outputs": [
    {
     "name": "stdout",
     "output_type": "stream",
     "text": [
      "7\n",
      "15\n"
     ]
    }
   ],
   "source": [
    "# 212\n",
    "# 7 15\n",
    "def 함수(a, b) :\n",
    "    print(a + b)\n",
    "\n",
    "함수(3, 4)\n",
    "함수(7, 8)\n"
   ]
  },
  {
   "cell_type": "code",
   "execution_count": 15,
   "id": "0a4af11f",
   "metadata": {},
   "outputs": [],
   "source": [
    "# 213\n",
    "# 파라미터를 안넣어줌"
   ]
  },
  {
   "cell_type": "code",
   "execution_count": 16,
   "id": "a0def1fe",
   "metadata": {},
   "outputs": [],
   "source": [
    "# 214\n",
    "# 정의된 함수에서 같은 타입의 값 입력받는 것으로 정의됐으므로, 함수호출 시에 문자형과 숫자는 서로 더할 수 없음"
   ]
  },
  {
   "cell_type": "code",
   "execution_count": 17,
   "id": "19a8086a",
   "metadata": {},
   "outputs": [],
   "source": [
    "# 215\n",
    "def print_with_smile(a):\n",
    "    print(a, ':D')"
   ]
  },
  {
   "cell_type": "code",
   "execution_count": 19,
   "id": "adc974d7",
   "metadata": {},
   "outputs": [
    {
     "name": "stdout",
     "output_type": "stream",
     "text": [
      "안녕하세요 :D\n"
     ]
    }
   ],
   "source": [
    "# 216\n",
    "print_with_smile('안녕하세요')"
   ]
  },
  {
   "cell_type": "code",
   "execution_count": 21,
   "id": "6aa865fd",
   "metadata": {},
   "outputs": [
    {
     "name": "stdout",
     "output_type": "stream",
     "text": [
      "1300.0\n"
     ]
    }
   ],
   "source": [
    "# 217\n",
    "\n",
    "def print_upper_price(p):\n",
    "    p *= 1.3\n",
    "    print(p)\n",
    "\n",
    "print_upper_price(1000)"
   ]
  },
  {
   "cell_type": "code",
   "execution_count": 1,
   "id": "377195bf",
   "metadata": {},
   "outputs": [
    {
     "name": "stdout",
     "output_type": "stream",
     "text": [
      "3\n"
     ]
    }
   ],
   "source": [
    "# 218\n",
    "\n",
    "def print_sum(a,b):\n",
    "    print(a+b)\n",
    "    \n",
    "print_sum(1,2)"
   ]
  },
  {
   "cell_type": "code",
   "execution_count": 2,
   "id": "c14c5b13",
   "metadata": {},
   "outputs": [
    {
     "name": "stdout",
     "output_type": "stream",
     "text": [
      "3 + 4 = 7\n",
      "3 - 4 = -1\n",
      "3 * 4 = 12\n",
      "3 / 4 = 0.75\n"
     ]
    }
   ],
   "source": [
    "# 219\n",
    "\n",
    "def print_arithmetic_operation(a,b):\n",
    "    print(a,'+',b,'=',a+b)\n",
    "    print(a,'-',b,'=',a-b)\n",
    "    print(a,'*',b,'=',a*b)\n",
    "    print(a,'/',b,'=',a/b)\n",
    "\n",
    "print_arithmetic_operation(3,4)"
   ]
  },
  {
   "cell_type": "code",
   "execution_count": 8,
   "id": "2982c9d6",
   "metadata": {},
   "outputs": [
    {
     "name": "stdout",
     "output_type": "stream",
     "text": [
      "5\n"
     ]
    }
   ],
   "source": [
    "# 220\n",
    "\n",
    "def print_max(a, b, c):\n",
    "    com = 0\n",
    "    if a > com:\n",
    "        com = a\n",
    "    if b > com:\n",
    "        com = b\n",
    "    if c > com:\n",
    "        com = c\n",
    "    print(com)\n",
    "        \n",
    "print_max(1,3,5)"
   ]
  },
  {
   "cell_type": "code",
   "execution_count": 13,
   "id": "5299ee96",
   "metadata": {},
   "outputs": [
    {
     "name": "stdout",
     "output_type": "stream",
     "text": [
      "nohtyp\n"
     ]
    }
   ],
   "source": [
    "# 221\n",
    "\n",
    "def print_reverse(a):\n",
    "    print(a[::-1])\n",
    "\n",
    "print_reverse(\"python\")"
   ]
  },
  {
   "cell_type": "code",
   "execution_count": 20,
   "id": "9128f475",
   "metadata": {},
   "outputs": [
    {
     "name": "stdout",
     "output_type": "stream",
     "text": [
      "['n', 'o', 'h', 't', 'y', 'p']\n"
     ]
    }
   ],
   "source": [
    "# 221\n",
    "\n",
    "def print_reverse(a):\n",
    "    l1 = list(a)\n",
    "    l1.reverse()\n",
    "    print(l1)\n",
    "\n",
    "print_reverse(\"python\")"
   ]
  },
  {
   "cell_type": "code",
   "execution_count": 21,
   "id": "3b9d25ba",
   "metadata": {},
   "outputs": [
    {
     "name": "stdout",
     "output_type": "stream",
     "text": [
      "2.0\n"
     ]
    }
   ],
   "source": [
    "# 222\n",
    "\n",
    "def print_score(l1):\n",
    "    print(sum(l1)/len(l1))\n",
    "\n",
    "print_score ([1, 2, 3])"
   ]
  },
  {
   "cell_type": "code",
   "execution_count": 27,
   "id": "a6572fc3",
   "metadata": {},
   "outputs": [
    {
     "name": "stdout",
     "output_type": "stream",
     "text": [
      "2\n",
      "10\n",
      "12\n"
     ]
    }
   ],
   "source": [
    "# 223\n",
    "\n",
    "def print_even(a):\n",
    "    for i in range(len(a)):\n",
    "        if a[i] % 2 ==0:\n",
    "            print(a[i])\n",
    "\n",
    "print_even([1,3,2,10,12,11,15])"
   ]
  },
  {
   "cell_type": "code",
   "execution_count": 29,
   "id": "85010d41",
   "metadata": {},
   "outputs": [
    {
     "name": "stdout",
     "output_type": "stream",
     "text": [
      "이름\n",
      "나이\n",
      "성별\n"
     ]
    }
   ],
   "source": [
    "# 224\n",
    "def print_keys(a):\n",
    "    for i in a.keys():\n",
    "        print(i)\n",
    "    \n",
    "print_keys({\"이름\":\"김말똥\", \"나이\":30, \"성별\":0})"
   ]
  },
  {
   "cell_type": "code",
   "execution_count": 32,
   "id": "44181961",
   "metadata": {},
   "outputs": [
    {
     "name": "stdout",
     "output_type": "stream",
     "text": [
      "[100, 130, 100, 100]\n"
     ]
    }
   ],
   "source": [
    "# 225\n",
    "\n",
    "my_dict = {\"10/26\" : [100, 130, 100, 100],\n",
    "           \"10/27\" : [10, 12, 10, 11]}\n",
    "\n",
    "def print_value_by_key(a, b):\n",
    "    print(a[b])\n",
    "\n",
    "print_value_by_key  (my_dict, \"10/26\")\n",
    "   "
   ]
  },
  {
   "cell_type": "code",
   "execution_count": 51,
   "id": "e6f6e70e",
   "metadata": {},
   "outputs": [
    {
     "name": "stdout",
     "output_type": "stream",
     "text": [
      "아이엠어보\n",
      "이유알어걸\n",
      "이머\n"
     ]
    }
   ],
   "source": [
    "# 226\n",
    "\n",
    "def print_5xn(a):\n",
    "    line_num = len(a)// 5\n",
    "    str_num = len(a) % 5\n",
    "    \n",
    "    if str_num == 0:\n",
    "        for i in range(0, line_num):\n",
    "            print(a[i*5 : (i+1)*5])\n",
    "    \n",
    "    else:\n",
    "        for i in range(0, line_num):\n",
    "            print(a[i*5 : (i+1)*5])\n",
    "        print(a[line_num*5 : line_num*5+str_num])\n",
    "            \n",
    "                        \n",
    "          \n",
    "print_5xn(\"아이엠어보이유알어걸이머\") "
   ]
  },
  {
   "cell_type": "code",
   "execution_count": 56,
   "id": "bddb60e3",
   "metadata": {},
   "outputs": [
    {
     "name": "stdout",
     "output_type": "stream",
     "text": [
      "아이엠어보\n",
      "이유알어걸\n",
      "이머\n"
     ]
    }
   ],
   "source": [
    "def print_5xn(a):\n",
    "    line_num = len(a) // 5\n",
    "    for i in range(line_num + 1) :\n",
    "        print(a[i * 5: i * 5 + 5])\n",
    "\n",
    "print_5xn(\"아이엠어보이유알어걸이머\") "
   ]
  },
  {
   "cell_type": "code",
   "execution_count": 59,
   "id": "5d7a5ac1",
   "metadata": {},
   "outputs": [
    {
     "name": "stdout",
     "output_type": "stream",
     "text": [
      "아이엠\n",
      "어보이\n",
      "유알어\n",
      "걸\n"
     ]
    }
   ],
   "source": [
    "# 227\n",
    "\n",
    "def printmxn(a,b):\n",
    "    line_num = len(a) // b\n",
    "    for i in range(line_num+1):\n",
    "        print(a[i*b : i*b+b])\n",
    "        \n",
    "printmxn(\"아이엠어보이유알어걸\", 3)"
   ]
  },
  {
   "cell_type": "code",
   "execution_count": 61,
   "id": "d4d31837",
   "metadata": {},
   "outputs": [
    {
     "name": "stdout",
     "output_type": "stream",
     "text": [
      "1000000\n"
     ]
    }
   ],
   "source": [
    "# 228\n",
    "\n",
    "def calc_monthly_salary(annual_salary):\n",
    "    print(int(annual_salary/12))\n",
    "    \n",
    "calc_monthly_salary(12000004)\n"
   ]
  },
  {
   "cell_type": "code",
   "execution_count": 62,
   "id": "d894ba2e",
   "metadata": {},
   "outputs": [
    {
     "name": "stdout",
     "output_type": "stream",
     "text": [
      "왼쪽: 100\n",
      "오른쪽: 200\n"
     ]
    }
   ],
   "source": [
    "# 229\n",
    "# 왼쪽: 100 오른쪽: 200\n",
    "\n",
    "def my_print (a, b) :\n",
    "    print(\"왼쪽:\", a)\n",
    "    print(\"오른쪽:\", b)\n",
    "\n",
    "my_print(a=100, b=200)\n"
   ]
  },
  {
   "cell_type": "code",
   "execution_count": 63,
   "id": "dec5c43d",
   "metadata": {},
   "outputs": [
    {
     "name": "stdout",
     "output_type": "stream",
     "text": [
      "왼쪽: 200\n",
      "오른쪽: 100\n"
     ]
    }
   ],
   "source": [
    "# 230\n",
    "# 왼쪽: 200 오른쪽: 100\n",
    "\n",
    "def my_print (a, b) :\n",
    "    print(\"왼쪽:\", a)\n",
    "    print(\"오른쪽:\", b)\n",
    "\n",
    "my_print(b=100, a=200)\n"
   ]
  },
  {
   "cell_type": "code",
   "execution_count": 64,
   "id": "75289c79",
   "metadata": {},
   "outputs": [],
   "source": [
    "# 231\n",
    "# 에러 -> result 변수를 글로벌에서 선언해준 적이 없으므로 함수밖에서 사용할 수 없음\n"
   ]
  },
  {
   "cell_type": "code",
   "execution_count": 67,
   "id": "22ab80be",
   "metadata": {},
   "outputs": [
    {
     "data": {
      "text/plain": [
       "'www.naver.com'"
      ]
     },
     "execution_count": 67,
     "metadata": {},
     "output_type": "execute_result"
    }
   ],
   "source": [
    "# 232\n",
    "\n",
    "def make_url(a):\n",
    "    return 'www.' + a + '.com'\n",
    "\n",
    "make_url('naver')"
   ]
  },
  {
   "cell_type": "code",
   "execution_count": 75,
   "id": "5a172bdb",
   "metadata": {},
   "outputs": [
    {
     "data": {
      "text/plain": [
       "['a', 'b', 'c', 'd']"
      ]
     },
     "execution_count": 75,
     "metadata": {},
     "output_type": "execute_result"
    }
   ],
   "source": [
    "# 233\n",
    "\n",
    "def make_list(a):\n",
    "    al = list()\n",
    "    for i in range(len(a)):\n",
    "        al.append(a[i])\n",
    "    return al\n",
    "\n",
    "make_list('abcd')"
   ]
  },
  {
   "cell_type": "code",
   "execution_count": 77,
   "id": "7c5ea3b1",
   "metadata": {},
   "outputs": [
    {
     "data": {
      "text/plain": [
       "[4, 6, 8]"
      ]
     },
     "execution_count": 77,
     "metadata": {},
     "output_type": "execute_result"
    }
   ],
   "source": [
    "# 234\n",
    "\n",
    "def pickup_even(a):\n",
    "    l1 = list()\n",
    "    for i in range(len(a)):\n",
    "       if a[i] % 2 == 0:\n",
    "        l1.append(a[i])\n",
    "    return l1\n",
    "\n",
    "pickup_even([3,4,5,6,7,8])"
   ]
  },
  {
   "cell_type": "code",
   "execution_count": 88,
   "id": "babfc891",
   "metadata": {},
   "outputs": [
    {
     "data": {
      "text/plain": [
       "1234567"
      ]
     },
     "execution_count": 88,
     "metadata": {},
     "output_type": "execute_result"
    }
   ],
   "source": [
    "# 235\n",
    "\n",
    "def convert_int(a):\n",
    "    a = a.split(',')\n",
    "    a = list(a)\n",
    "    return int(''.join(a))\n",
    "\n",
    "convert_int('1,234,567')"
   ]
  },
  {
   "cell_type": "code",
   "execution_count": 89,
   "id": "4cbd7ff3",
   "metadata": {},
   "outputs": [
    {
     "name": "stdout",
     "output_type": "stream",
     "text": [
      "22\n"
     ]
    }
   ],
   "source": [
    "# 236\n",
    "# 22\n",
    "\n",
    "def 함수(num) :\n",
    "    return num + 4\n",
    "\n",
    "c = 함수(함수(함수(10)))\n",
    "print(c)\n"
   ]
  },
  {
   "cell_type": "code",
   "execution_count": 90,
   "id": "da9d5552",
   "metadata": {},
   "outputs": [
    {
     "name": "stdout",
     "output_type": "stream",
     "text": [
      "22\n"
     ]
    }
   ],
   "source": [
    "# 237\n",
    "# 22\n",
    "def 함수(num) :\n",
    "    return num + 4\n",
    "\n",
    "c = 함수(함수(함수(10)))\n",
    "print(c)\n"
   ]
  },
  {
   "cell_type": "code",
   "execution_count": 91,
   "id": "0d74e704",
   "metadata": {},
   "outputs": [
    {
     "name": "stdout",
     "output_type": "stream",
     "text": [
      "140\n"
     ]
    }
   ],
   "source": [
    "# 238\n",
    "# 140\n",
    "def 함수1(num) :\n",
    "    return num + 4\n",
    "\n",
    "def 함수2(num) :\n",
    "    return num * 10\n",
    "\n",
    "a = 함수1(10)\n",
    "c = 함수2(a)\n",
    "print(c)\n"
   ]
  },
  {
   "cell_type": "code",
   "execution_count": 92,
   "id": "3ce1c52f",
   "metadata": {},
   "outputs": [
    {
     "name": "stdout",
     "output_type": "stream",
     "text": [
      "16\n"
     ]
    }
   ],
   "source": [
    "# 239\n",
    "# 16\n",
    "def 함수1(num) :\n",
    "    return num + 4\n",
    "\n",
    "def 함수2(num) :\n",
    "    num = num + 2\n",
    "    return 함수1(num)\n",
    "\n",
    "c = 함수2(10)\n",
    "print(c)\n"
   ]
  },
  {
   "cell_type": "code",
   "execution_count": 93,
   "id": "d85afa3e",
   "metadata": {},
   "outputs": [
    {
     "name": "stdout",
     "output_type": "stream",
     "text": [
      "28\n"
     ]
    }
   ],
   "source": [
    "# 240\n",
    "# 28\n",
    "\n",
    "def 함수0(num) :\n",
    "    return num * 2\n",
    "\n",
    "def 함수1(num) :\n",
    "    return 함수0(num + 2)\n",
    "\n",
    "def 함수2(num) :\n",
    "    num = num + 10\n",
    "    return 함수1(num)\n",
    "\n",
    "c = 함수2(2)\n",
    "print(c)\n"
   ]
  }
 ],
 "metadata": {
  "kernelspec": {
   "display_name": "Python 3 (ipykernel)",
   "language": "python",
   "name": "python3"
  },
  "language_info": {
   "codemirror_mode": {
    "name": "ipython",
    "version": 3
   },
   "file_extension": ".py",
   "mimetype": "text/x-python",
   "name": "python",
   "nbconvert_exporter": "python",
   "pygments_lexer": "ipython3",
   "version": "3.11.5"
  },
  "toc": {
   "base_numbering": 1,
   "nav_menu": {},
   "number_sections": true,
   "sideBar": true,
   "skip_h1_title": false,
   "title_cell": "Table of Contents",
   "title_sidebar": "Contents",
   "toc_cell": false,
   "toc_position": {},
   "toc_section_display": true,
   "toc_window_display": false
  }
 },
 "nbformat": 4,
 "nbformat_minor": 5
}
