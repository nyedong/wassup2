{
 "cells": [
  {
   "cell_type": "code",
   "execution_count": 1,
   "id": "f3e72895",
   "metadata": {},
   "outputs": [],
   "source": [
    "# 101\n",
    "# bool 타입"
   ]
  },
  {
   "cell_type": "code",
   "execution_count": 3,
   "id": "c9b0ee64",
   "metadata": {},
   "outputs": [
    {
     "name": "stdout",
     "output_type": "stream",
     "text": [
      "False\n"
     ]
    }
   ],
   "source": [
    "# 102\n",
    "# false\n",
    "print(3 ==5)"
   ]
  },
  {
   "cell_type": "code",
   "execution_count": 4,
   "id": "cf8f2ef1",
   "metadata": {},
   "outputs": [
    {
     "name": "stdout",
     "output_type": "stream",
     "text": [
      "True\n"
     ]
    }
   ],
   "source": [
    "# 103\n",
    "# true\n",
    "print(3<5)"
   ]
  },
  {
   "cell_type": "code",
   "execution_count": 5,
   "id": "7a00c897",
   "metadata": {},
   "outputs": [
    {
     "name": "stdout",
     "output_type": "stream",
     "text": [
      "True\n"
     ]
    }
   ],
   "source": [
    "# 104\n",
    "# true\n",
    "x = 4\n",
    "print(1<x<5)"
   ]
  },
  {
   "cell_type": "code",
   "execution_count": 6,
   "id": "dc5c2f15",
   "metadata": {},
   "outputs": [
    {
     "name": "stdout",
     "output_type": "stream",
     "text": [
      "True\n"
     ]
    }
   ],
   "source": [
    "# 105\n",
    "# true\n",
    "print((3==3) and (4 !=3))"
   ]
  },
  {
   "cell_type": "code",
   "execution_count": 7,
   "id": "84dd7aae",
   "metadata": {},
   "outputs": [
    {
     "name": "stdout",
     "output_type": "stream",
     "text": [
      "False\n"
     ]
    }
   ],
   "source": [
    "# 106\n",
    "# >= 로 해야 함\n",
    "print(3 >= 4)"
   ]
  },
  {
   "cell_type": "code",
   "execution_count": 8,
   "id": "594aa576",
   "metadata": {},
   "outputs": [],
   "source": [
    "# 107\n",
    "# 아무것도 출력하지 않음\n",
    "if 4<3:\n",
    "    print(\"hello world\")"
   ]
  },
  {
   "cell_type": "code",
   "execution_count": 9,
   "id": "b967f1ae",
   "metadata": {},
   "outputs": [
    {
     "name": "stdout",
     "output_type": "stream",
     "text": [
      "hi, there.\n"
     ]
    }
   ],
   "source": [
    "# 108\n",
    "# hi, there.\n",
    "if 4 < 3:\n",
    "    print('hello world.')\n",
    "else:\n",
    "    print('hi, there.')"
   ]
  },
  {
   "cell_type": "code",
   "execution_count": 10,
   "id": "20ba4d39",
   "metadata": {},
   "outputs": [
    {
     "name": "stdout",
     "output_type": "stream",
     "text": [
      "1\n",
      "2\n",
      "4\n"
     ]
    }
   ],
   "source": [
    "# 109\n",
    "#1 2 4\n",
    "if True :\n",
    "    print (\"1\")\n",
    "    print (\"2\")\n",
    "else :\n",
    "    print(\"3\")\n",
    "print(\"4\")\n"
   ]
  },
  {
   "cell_type": "code",
   "execution_count": 11,
   "id": "686ba797",
   "metadata": {},
   "outputs": [
    {
     "name": "stdout",
     "output_type": "stream",
     "text": [
      "3\n",
      "5\n"
     ]
    }
   ],
   "source": [
    "# 110\n",
    "# 3 5\n",
    "if True :\n",
    "    if False:\n",
    "        print(\"1\")\n",
    "        print(\"2\")\n",
    "    else:\n",
    "        print(\"3\")\n",
    "else :\n",
    "    print(\"4\")\n",
    "print(\"5\")\n"
   ]
  },
  {
   "cell_type": "code",
   "execution_count": 13,
   "id": "26a3fcb0",
   "metadata": {},
   "outputs": [
    {
     "name": "stdout",
     "output_type": "stream",
     "text": [
      "안녕하세요\n",
      "안녕하세요안녕하세요\n"
     ]
    }
   ],
   "source": [
    "# 111\n",
    "a = input()\n",
    "print(a*2)"
   ]
  },
  {
   "cell_type": "code",
   "execution_count": 14,
   "id": "1cbce3b2",
   "metadata": {},
   "outputs": [
    {
     "name": "stdout",
     "output_type": "stream",
     "text": [
      "숫자를 입력하세요: 30\n",
      "40\n"
     ]
    }
   ],
   "source": [
    "# 112\n",
    "a = int(input('숫자를 입력하세요: '))\n",
    "print(a+10)"
   ]
  },
  {
   "cell_type": "code",
   "execution_count": 15,
   "id": "c0316ecb",
   "metadata": {},
   "outputs": [
    {
     "name": "stdout",
     "output_type": "stream",
     "text": [
      "30\n",
      "짝수\n"
     ]
    }
   ],
   "source": [
    "# 113\n",
    "a = int(input())\n",
    "if a % 2 == 0:\n",
    "    print('짝수')\n",
    "else:\n",
    "    print('홀수')"
   ]
  },
  {
   "cell_type": "code",
   "execution_count": 19,
   "id": "01517ed3",
   "metadata": {},
   "outputs": [
    {
     "name": "stdout",
     "output_type": "stream",
     "text": [
      "입력값: 200\n",
      "출력값:  220\n"
     ]
    }
   ],
   "source": [
    "# 114\n",
    "a = int(input('입력값: '))\n",
    "\n",
    "if a + 20 > 255:\n",
    "    print('출력값: ', 255)\n",
    "else:\n",
    "    print('출력값: ', a+20)"
   ]
  },
  {
   "cell_type": "code",
   "execution_count": 23,
   "id": "34e0e175",
   "metadata": {},
   "outputs": [
    {
     "name": "stdout",
     "output_type": "stream",
     "text": [
      "입력값: 300\n",
      "출력값:  255\n"
     ]
    }
   ],
   "source": [
    "# 115\n",
    "a = int(input('입력값: '))\n",
    "b = a -20\n",
    "\n",
    "if b < 255 and b > 0:\n",
    "    print('출력값: ', b)\n",
    "elif b < 0 :\n",
    "    print('출력값: ', 0)\n",
    "else:\n",
    "    print('출력값: ', 255)"
   ]
  },
  {
   "cell_type": "code",
   "execution_count": 25,
   "id": "46f28261",
   "metadata": {},
   "outputs": [
    {
     "name": "stdout",
     "output_type": "stream",
     "text": [
      "현재시간: 03:10\n",
      "정각이 아닙니다.\n"
     ]
    }
   ],
   "source": [
    "# 116\n",
    "time = input('현재시간: ')\n",
    "t = time.split(':')\n",
    "\n",
    "if t[1] == '00':\n",
    "    print('정각입니다.')\n",
    "else:\n",
    "    print('정각이 아닙니다.')"
   ]
  },
  {
   "cell_type": "code",
   "execution_count": 26,
   "id": "0df5cd2f",
   "metadata": {},
   "outputs": [
    {
     "name": "stdout",
     "output_type": "stream",
     "text": [
      "좋아하는 과일은? 사과\n",
      "정답입니다.\n"
     ]
    }
   ],
   "source": [
    "# 117\n",
    "fruit = [\"사과\", \"포도\", \"홍시\"]\n",
    "user = input('좋아하는 과일은? ')\n",
    "\n",
    "if user in fruit:\n",
    "    print('정답입니다.')\n",
    "else:\n",
    "    print('오답입니다.')"
   ]
  },
  {
   "cell_type": "code",
   "execution_count": 28,
   "id": "49f76adc",
   "metadata": {},
   "outputs": [
    {
     "name": "stdout",
     "output_type": "stream",
     "text": [
      "Naver\n",
      "투자 경고 종목입니다.\n"
     ]
    }
   ],
   "source": [
    "# 118\n",
    "warn_investment_list = [\"Microsoft\", \"Google\", \"Naver\", \"Kakao\", \"SAMSUNG\", \"LG\"]\n",
    "user = input()\n",
    "\n",
    "if user in warn_investment_list:\n",
    "    print('투자 경고 종목입니다.')\n",
    "else:\n",
    "    print('투자경고종목이 아닙니다.')"
   ]
  },
  {
   "cell_type": "code",
   "execution_count": 32,
   "id": "bd197bd5",
   "metadata": {},
   "outputs": [
    {
     "name": "stdout",
     "output_type": "stream",
     "text": [
      "딸기\n",
      "오답입니다\n"
     ]
    }
   ],
   "source": [
    "# 119\n",
    "fruit = {\"봄\" : \"딸기\", \"여름\" : \"토마토\", \"가을\" : \"사과\"}\n",
    "user = input()\n",
    "\n",
    "if user in fruit.keys():\n",
    "    print('정답입니다.')\n",
    "else:\n",
    "    print('오답입니다')"
   ]
  },
  {
   "cell_type": "code",
   "execution_count": 30,
   "id": "4fe2850c",
   "metadata": {},
   "outputs": [
    {
     "name": "stdout",
     "output_type": "stream",
     "text": [
      "가을\n",
      "오답입니다\n"
     ]
    }
   ],
   "source": [
    "# 120\n",
    "fruit = {\"봄\" : \"딸기\", \"여름\" : \"토마토\", \"가을\" : \"사과\"}\n",
    "user = input()\n",
    "\n",
    "if user in fruit.values():\n",
    "    print('정답입니다.')\n",
    "else:\n",
    "    print('오답입니다')"
   ]
  },
  {
   "cell_type": "code",
   "execution_count": 33,
   "id": "18a18c39",
   "metadata": {},
   "outputs": [
    {
     "name": "stdout",
     "output_type": "stream",
     "text": [
      "a\n",
      "A\n"
     ]
    }
   ],
   "source": [
    "# 121\n",
    "user = input()\n",
    "\n",
    "if user.islower():\n",
    "    print(user.upper())\n",
    "else:\n",
    "    print(user.lower())"
   ]
  },
  {
   "cell_type": "code",
   "execution_count": 36,
   "id": "fc9b6d25",
   "metadata": {},
   "outputs": [
    {
     "name": "stdout",
     "output_type": "stream",
     "text": [
      "score: 99\n",
      "grade is A\n"
     ]
    }
   ],
   "source": [
    "# 122\n",
    "score = int(input('score: '))\n",
    "\n",
    "if score >= 81 and score <=100:\n",
    "    print('grade is A')\n",
    "elif score >= 61 and score <= 80:\n",
    "    print('grade is B')\n",
    "elif score >= 41 and score <= 60:\n",
    "    print('grade is C')\n",
    "elif score >= 21 and score <= 40:\n",
    "    print('grade is D')\n",
    "elif score >= 0 and score <= 20:\n",
    "    print('grade is E')"
   ]
  },
  {
   "cell_type": "code",
   "execution_count": 54,
   "id": "ec94e398",
   "metadata": {},
   "outputs": [
    {
     "name": "stdout",
     "output_type": "stream",
     "text": [
      "입력: 100 달러\n",
      "116700.0 원\n"
     ]
    }
   ],
   "source": [
    "# 123\n",
    "user = input('입력: ')\n",
    "exc = {'달러':1167, '엔':1.096, '유로':1268, '위안':171}\n",
    "\n",
    "val,unit = user.split( )\n",
    "print(float(exc[unit])*float(val), '원')"
   ]
  },
  {
   "cell_type": "code",
   "execution_count": 60,
   "id": "bca79653",
   "metadata": {},
   "outputs": [
    {
     "name": "stdout",
     "output_type": "stream",
     "text": [
      "number1: 45\n",
      "number2: 2\n",
      "number3: 90\n",
      "90\n"
     ]
    }
   ],
   "source": [
    "# 124\n",
    "n1 = int(input('number1: '))\n",
    "n2 = int(input('number2: '))\n",
    "n3 = int(input('number3: '))\n",
    "\n",
    "ans = list()\n",
    "ans.append(n1)\n",
    "ans.append(n2)\n",
    "ans.append(n3)\n",
    "\n",
    "print(max(ans))"
   ]
  },
  {
   "cell_type": "code",
   "execution_count": 67,
   "id": "d36776b0",
   "metadata": {},
   "outputs": [
    {
     "name": "stdout",
     "output_type": "stream",
     "text": [
      "휴대전화 번호 입력: 010-3859-2395\n",
      "당신은 알수없음입니다.\n"
     ]
    }
   ],
   "source": [
    "# 125\n",
    "tel = {'SKT':'011', 'KT':'016', 'LGU':'019', '알수없음':'010'}\n",
    "num = input('휴대전화 번호 입력: ')\n",
    "n1 = str(num.split('-')[0])\n",
    "\n",
    "if n1 == '011':\n",
    "    print('당신은 SKT 사용자입니다.')\n",
    "elif n1 == '016':\n",
    "    print('당신은 KT 사용자입니다.')\n",
    "elif n1 == '019':\n",
    "    print('당신은 LGU 사용자입니다.')\n",
    "else:\n",
    "    print('당신은 알수없음입니다.')"
   ]
  },
  {
   "cell_type": "code",
   "execution_count": 70,
   "id": "c91ba333",
   "metadata": {},
   "outputs": [
    {
     "name": "stdout",
     "output_type": "stream",
     "text": [
      "우편번호: 01400\n",
      "노원구\n"
     ]
    }
   ],
   "source": [
    "# 126\n",
    "adr = {'강북구': (0,1,2),\n",
    "      '도봉구' : (3,4,5),\n",
    "      '노원구' : (6,7,8,9)}\n",
    "user = input('우편번호: ')\n",
    "num = user[2]\n",
    "\n",
    "if num in (adr['강북구']):\n",
    "    print('강북구')\n",
    "elif num in (adr['도봉구']):\n",
    "    print('도봉구')\n",
    "else:\n",
    "    print('노원구')"
   ]
  },
  {
   "cell_type": "code",
   "execution_count": 94,
   "id": "4b6d2b05",
   "metadata": {},
   "outputs": [
    {
     "name": "stdout",
     "output_type": "stream",
     "text": [
      "주민등록번호: 821010-1635210\n",
      "남자\n"
     ]
    }
   ],
   "source": [
    "# 127\n",
    "user = input('주민등록번호: ')\n",
    "n1 = user.split('-')[1]\n",
    "\n",
    "if n1[0] in ('1', '3'):\n",
    "    print('남자')\n",
    "else:\n",
    "    print('여자')\n"
   ]
  },
  {
   "cell_type": "code",
   "execution_count": 96,
   "id": "67602e1d",
   "metadata": {},
   "outputs": [
    {
     "name": "stdout",
     "output_type": "stream",
     "text": [
      "주민등록번호: 861010-1015210\n",
      "서울 입니다.\n"
     ]
    }
   ],
   "source": [
    "# 128\n",
    "user = input('주민등록번호: ')\n",
    "a = user.split('-')[1]\n",
    "num = int(a[1:3])\n",
    "\n",
    "if num in range(0,9):\n",
    "    print('서울 입니다.')\n",
    "else:\n",
    "    print('서울이 아닙니다.')"
   ]
  },
  {
   "cell_type": "code",
   "execution_count": 101,
   "id": "3a2d290b",
   "metadata": {},
   "outputs": [
    {
     "name": "stdout",
     "output_type": "stream",
     "text": [
      "상승장\n"
     ]
    }
   ],
   "source": [
    "# 130\n",
    "#import requests\n",
    "#btc = requests.get(\"https://api.bithumb.com/public/ticker/\").json()['data']\n",
    "\n",
    "#print(btc)\n",
    "변동폭 =float(btc['max_price']) - float(btc['min_price'])\n",
    "장 = float(btc['opening_price']) + 변동폭\n",
    "\n",
    "if 장 > float(btc['max_price']):\n",
    "    print('상승장')\n",
    "else:\n",
    "    print('하락장')"
   ]
  },
  {
   "cell_type": "code",
   "execution_count": 102,
   "id": "5caab5f2",
   "metadata": {},
   "outputs": [
    {
     "name": "stdout",
     "output_type": "stream",
     "text": [
      "사과\n",
      "귤\n",
      "수박\n"
     ]
    }
   ],
   "source": [
    "# 131\n",
    "#사과 귤 수박\n",
    "과일 = [\"사과\", \"귤\", \"수박\"]\n",
    "for 변수 in 과일:\n",
    "    print(변수)\n"
   ]
  },
  {
   "cell_type": "code",
   "execution_count": 103,
   "id": "8c9815a0",
   "metadata": {},
   "outputs": [
    {
     "name": "stdout",
     "output_type": "stream",
     "text": [
      "#####\n",
      "#####\n",
      "#####\n"
     ]
    }
   ],
   "source": [
    "# 132\n",
    "# ##### ##### #####\n",
    "과일 = [\"사과\", \"귤\", \"수박\"]\n",
    "for 변수 in 과일:\n",
    "  print(\"#####\")\n"
   ]
  },
  {
   "cell_type": "code",
   "execution_count": 104,
   "id": "b3cfb2a4",
   "metadata": {},
   "outputs": [
    {
     "name": "stdout",
     "output_type": "stream",
     "text": [
      "A\n",
      "B\n",
      "C\n"
     ]
    }
   ],
   "source": [
    "# 133\n",
    "변수 = \"A\"\n",
    "print(변수)\n",
    "변수 = \"B\"\n",
    "print(변수)\n",
    "변수 = \"C\"\n",
    "print(변수)"
   ]
  },
  {
   "cell_type": "code",
   "execution_count": 105,
   "id": "71cdce86",
   "metadata": {},
   "outputs": [
    {
     "name": "stdout",
     "output_type": "stream",
     "text": [
      "출력: A\n",
      "출력: B\n",
      "출력: C\n"
     ]
    }
   ],
   "source": [
    "# 134\n",
    "변수 = \"A\"\n",
    "print(\"출력:\", 변수)\n",
    "변수 = \"B\"\n",
    "print(\"출력:\", 변수)\n",
    "변수 = \"C\"\n",
    "print(\"출력:\", 변수)"
   ]
  },
  {
   "cell_type": "code",
   "execution_count": 106,
   "id": "63d3c66b",
   "metadata": {},
   "outputs": [
    {
     "name": "stdout",
     "output_type": "stream",
     "text": [
      "변환: a\n",
      "변환: b\n",
      "변환: c\n"
     ]
    }
   ],
   "source": [
    "# 135\n",
    "변수 = \"A\"\n",
    "b = 변수.lower()\n",
    "print(\"변환:\", b)\n",
    "변수 = \"B\"\n",
    "b = 변수.lower()\n",
    "print(\"변환:\", b)\n",
    "변수 = \"C\"\n",
    "b = 변수.lower()\n",
    "print(\"변환:\", b)"
   ]
  },
  {
   "cell_type": "code",
   "execution_count": 107,
   "id": "41481390",
   "metadata": {},
   "outputs": [
    {
     "name": "stdout",
     "output_type": "stream",
     "text": [
      "10\n",
      "20\n",
      "30\n"
     ]
    }
   ],
   "source": [
    "# 136\n",
    "\n",
    "for 변수 in (10, 20, 30):\n",
    "    print(변수)"
   ]
  },
  {
   "cell_type": "code",
   "execution_count": 108,
   "id": "167c99bc",
   "metadata": {},
   "outputs": [
    {
     "name": "stdout",
     "output_type": "stream",
     "text": [
      "10\n",
      "20\n",
      "30\n"
     ]
    }
   ],
   "source": [
    "# 137\n",
    "\n",
    "for 변수 in (10, 20, 30):\n",
    "    print(변수)"
   ]
  },
  {
   "cell_type": "code",
   "execution_count": 109,
   "id": "6c51e1db",
   "metadata": {},
   "outputs": [
    {
     "name": "stdout",
     "output_type": "stream",
     "text": [
      "------\n",
      "------\n",
      "------\n"
     ]
    }
   ],
   "source": [
    "# 138\n",
    "for 변수 in (10, 20, 30):\n",
    "    print('------')"
   ]
  },
  {
   "cell_type": "code",
   "execution_count": 110,
   "id": "61700d5c",
   "metadata": {},
   "outputs": [
    {
     "name": "stdout",
     "output_type": "stream",
     "text": [
      "++++\n",
      "10\n",
      "20\n",
      "30\n"
     ]
    }
   ],
   "source": [
    "# 139\n",
    "for 변수 in ('++++', 10, 20, 30):\n",
    "    print(변수)"
   ]
  },
  {
   "cell_type": "code",
   "execution_count": 111,
   "id": "d353a3a1",
   "metadata": {},
   "outputs": [
    {
     "name": "stdout",
     "output_type": "stream",
     "text": [
      "------\n",
      "------\n",
      "------\n",
      "------\n"
     ]
    }
   ],
   "source": [
    "# 140\n",
    "for 변수 in range(0,4):\n",
    "    print('------')"
   ]
  },
  {
   "cell_type": "code",
   "execution_count": 112,
   "id": "97827898",
   "metadata": {},
   "outputs": [
    {
     "name": "stdout",
     "output_type": "stream",
     "text": [
      "110\n",
      "210\n",
      "310\n"
     ]
    }
   ],
   "source": [
    "# 141\n",
    "리스트 = [100, 200, 300]\n",
    "a = 0\n",
    "for a in 리스트:\n",
    "    print(a+10)"
   ]
  },
  {
   "cell_type": "code",
   "execution_count": 113,
   "id": "1a5e3054",
   "metadata": {},
   "outputs": [
    {
     "name": "stdout",
     "output_type": "stream",
     "text": [
      "오늘의 메뉴:  김밥\n",
      "오늘의 메뉴:  라면\n",
      "오늘의 메뉴:  튀김\n"
     ]
    }
   ],
   "source": [
    "# 142\n",
    "리스트 = [\"김밥\", \"라면\", \"튀김\"]\n",
    "\n",
    "for menu in 리스트:\n",
    "    print('오늘의 메뉴: ', menu)"
   ]
  },
  {
   "cell_type": "code",
   "execution_count": 115,
   "id": "2041a046",
   "metadata": {},
   "outputs": [
    {
     "name": "stdout",
     "output_type": "stream",
     "text": [
      "6\n",
      "4\n",
      "4\n"
     ]
    }
   ],
   "source": [
    "# 143\n",
    "리스트 = [\"SK하이닉스\", \"삼성전자\", \"LG전자\"]\n",
    "\n",
    "for 변수 in 리스트:\n",
    "    print(len(변수))"
   ]
  },
  {
   "cell_type": "code",
   "execution_count": 116,
   "id": "b0c318e4",
   "metadata": {},
   "outputs": [
    {
     "name": "stdout",
     "output_type": "stream",
     "text": [
      "dog 3\n",
      "cat 3\n",
      "parrot 6\n"
     ]
    }
   ],
   "source": [
    "# 144\n",
    "리스트 = ['dog', 'cat', 'parrot']\n",
    "\n",
    "for a in 리스트:\n",
    "    print(a, len(a))"
   ]
  },
  {
   "cell_type": "code",
   "execution_count": 117,
   "id": "22856317",
   "metadata": {},
   "outputs": [
    {
     "name": "stdout",
     "output_type": "stream",
     "text": [
      "d\n",
      "c\n",
      "p\n"
     ]
    }
   ],
   "source": [
    "# 145\n",
    "for a in 리스트:\n",
    "    print(a[0])"
   ]
  },
  {
   "cell_type": "code",
   "execution_count": 118,
   "id": "a2655bb2",
   "metadata": {},
   "outputs": [
    {
     "name": "stdout",
     "output_type": "stream",
     "text": [
      "3 x  1\n",
      "3 x  2\n",
      "3 x  3\n"
     ]
    }
   ],
   "source": [
    "# 146\n",
    "리스트 = [1, 2, 3]\n",
    "\n",
    "for a in 리스트:\n",
    "    print('3 x ',a)"
   ]
  },
  {
   "cell_type": "code",
   "execution_count": 119,
   "id": "f7e92986",
   "metadata": {},
   "outputs": [
    {
     "name": "stdout",
     "output_type": "stream",
     "text": [
      "3 x 1 = 3\n",
      "3 x 2 = 6\n",
      "3 x 3 = 9\n"
     ]
    }
   ],
   "source": [
    "# 147\n",
    "for a in 리스트:\n",
    "    print('3 x', a, '=', 3*a)"
   ]
  },
  {
   "cell_type": "code",
   "execution_count": 129,
   "id": "e74b6e91",
   "metadata": {},
   "outputs": [
    {
     "name": "stdout",
     "output_type": "stream",
     "text": [
      "나\n",
      "다\n",
      "라\n"
     ]
    }
   ],
   "source": [
    "# 148\n",
    "리스트 = [\"가\", \"나\", \"다\", \"라\"]\n",
    "\n",
    "for 변수 in 리스트[1:]:\n",
    "    print(변수)"
   ]
  },
  {
   "cell_type": "code",
   "execution_count": 123,
   "id": "7739c3a6",
   "metadata": {},
   "outputs": [
    {
     "name": "stdout",
     "output_type": "stream",
     "text": [
      "가\n",
      "다\n"
     ]
    }
   ],
   "source": [
    "# 149\n",
    "for 변수 in 리스트[::2]:\n",
    "    print(변수)"
   ]
  },
  {
   "cell_type": "code",
   "execution_count": 130,
   "id": "cdcd2a3a",
   "metadata": {},
   "outputs": [
    {
     "name": "stdout",
     "output_type": "stream",
     "text": [
      "라\n",
      "다\n",
      "나\n",
      "가\n"
     ]
    }
   ],
   "source": [
    "# 150\n",
    "\n",
    "for 변수 in 리스트[::-1]:\n",
    "    print(변수)"
   ]
  }
 ],
 "metadata": {
  "kernelspec": {
   "display_name": "Python 3 (ipykernel)",
   "language": "python",
   "name": "python3"
  },
  "language_info": {
   "codemirror_mode": {
    "name": "ipython",
    "version": 3
   },
   "file_extension": ".py",
   "mimetype": "text/x-python",
   "name": "python",
   "nbconvert_exporter": "python",
   "pygments_lexer": "ipython3",
   "version": "3.11.5"
  },
  "toc": {
   "base_numbering": 1,
   "nav_menu": {},
   "number_sections": true,
   "sideBar": true,
   "skip_h1_title": false,
   "title_cell": "Table of Contents",
   "title_sidebar": "Contents",
   "toc_cell": false,
   "toc_position": {},
   "toc_section_display": true,
   "toc_window_display": false
  }
 },
 "nbformat": 4,
 "nbformat_minor": 5
}
