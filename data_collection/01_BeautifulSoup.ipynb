{
 "cells": [
  {
   "cell_type": "markdown",
   "id": "6ebacf20",
   "metadata": {
    "id": "6ebacf20"
   },
   "source": [
    "# BeautifulSoup\n",
    "pip install bs4   \n",
    "[BeatufulSoup](https://www.crummy.com/software/BeautifulSoup/bs4/doc/)\n",
    "## 프로세스\n",
    "1. **웹 접속 및 HTML코드 (str) 추출**\n",
    "* request library : 정적페이지(html구조)에 활용\n",
    "* selenium library : 동적페이지(javascript 구조)에 활용\n",
    "2. **계층구조(DOM)로 변환 : DOM이란?**\n",
    "* BeutifulSoup(소스코드, 파서-해석기)\n",
    "3. **검색 후 추출**\n",
    "* find와 select의 차이, select는 css 구분자 사용, 관계 연결 가능\n",
    "* find와 select와 조건 방식이 다름\n",
    "* soup.find /.find_all(‘태그’, id=’orange’, class_= ‘fruit’)  , class는 예약어이기 때문\n",
    "* soup.select /select_one  (‘태그’, ‘#orange’, ‘.fruit’)\n",
    "* find 와 select_one은 단일 태그값 만 반환\n",
    "* find_all과 select는 모든 tag를 list로 반환\n",
    "4. **가공**\n"
   ]
  },
  {
   "cell_type": "markdown",
   "id": "f8c9a99f",
   "metadata": {
    "id": "f8c9a99f"
   },
   "source": [
    "## Parser\n",
    "pip install lxml"
   ]
  },
  {
   "cell_type": "code",
   "execution_count": 3,
   "id": "9588595c",
   "metadata": {
    "ExecuteTime": {
     "end_time": "2023-12-07T04:42:31.937421Z",
     "start_time": "2023-12-07T04:42:31.933837Z"
    },
    "id": "9588595c"
   },
   "outputs": [],
   "source": [
    "from bs4 import BeautifulSoup\n",
    "import lxml"
   ]
  },
  {
   "cell_type": "code",
   "execution_count": 4,
   "id": "17e2b4a6",
   "metadata": {
    "ExecuteTime": {
     "end_time": "2023-12-07T04:42:32.233479Z",
     "start_time": "2023-12-07T04:42:32.225983Z"
    },
    "id": "17e2b4a6"
   },
   "outputs": [],
   "source": [
    "BeautifulSoup?"
   ]
  },
  {
   "cell_type": "code",
   "execution_count": 5,
   "id": "41a1ab34",
   "metadata": {
    "ExecuteTime": {
     "end_time": "2023-12-07T04:42:32.553344Z",
     "start_time": "2023-12-07T04:42:32.544375Z"
    },
    "id": "41a1ab34"
   },
   "outputs": [
    {
     "name": "stdout",
     "output_type": "stream",
     "text": [
      "Requirement already satisfied: lxml in c:\\users\\user\\anaconda3\\lib\\site-packages (4.9.3)\n"
     ]
    }
   ],
   "source": [
    "# sample\n",
    "html = '''\n",
    "<div id=prices >\n",
    "    <table >\n",
    "        <tr class=bb>\n",
    "            <th class=\"bb lm lft\">Date\n",
    "            <th class=\"rgt bb\">Open\n",
    "            <th class=\"rgt bb\">High\n",
    "            <th class=\"rgt bb\">Low\n",
    "            <th class=\"rgt bb\">Close\n",
    "            <th class=\"rgt bb rm\">Volume\n",
    "        <tr>\n",
    "            <td class=\"lm\">Feb 28, 2014\n",
    "            <td class=\"rgt\">100.71\n",
    "            <td class=\"rgt\">100.71\n",
    "            <td class=\"rgt\">100.71\n",
    "            <td class=\"rgt\">100.71\n",
    "            <td class=\"rgt rm\">0\n",
    "     </table>\n",
    "'''"
   ]
  },
  {
   "cell_type": "code",
   "execution_count": 6,
   "id": "c4688737",
   "metadata": {
    "ExecuteTime": {
     "end_time": "2023-12-07T04:43:46.330988Z",
     "start_time": "2023-12-07T04:43:46.320498Z"
    },
    "id": "c4688737"
   },
   "outputs": [
    {
     "data": {
      "text/plain": [
       "<html><body><div id=\"prices\">\n",
       "<table>\n",
       "<tr class=\"bb\">\n",
       "<th class=\"bb lm lft\">Date\n",
       "            </th><th class=\"rgt bb\">Open\n",
       "            </th><th class=\"rgt bb\">High\n",
       "            </th><th class=\"rgt bb\">Low\n",
       "            </th><th class=\"rgt bb\">Close\n",
       "            </th><th class=\"rgt bb rm\">Volume\n",
       "        </th></tr><tr>\n",
       "<td class=\"lm\">Feb 28, 2014\n",
       "            </td><td class=\"rgt\">100.71\n",
       "            </td><td class=\"rgt\">100.71\n",
       "            </td><td class=\"rgt\">100.71\n",
       "            </td><td class=\"rgt\">100.71\n",
       "            </td><td class=\"rgt rm\">0\n",
       "     </td></tr></table>\n",
       "</div></body></html>"
      ]
     },
     "execution_count": 6,
     "metadata": {},
     "output_type": "execute_result"
    }
   ],
   "source": [
    " #lxml의 HTML파서\n",
    "BeautifulSoup(html, 'lxml')"
   ]
  },
  {
   "cell_type": "code",
   "execution_count": 7,
   "id": "eed5de73",
   "metadata": {
    "ExecuteTime": {
     "end_time": "2023-12-07T04:46:45.852648Z",
     "start_time": "2023-12-07T04:46:45.843671Z"
    },
    "id": "eed5de73",
    "scrolled": true
   },
   "outputs": [
    {
     "data": {
      "text/plain": [
       "\n",
       "<div id=\"prices\">\n",
       "<table>\n",
       "<tr class=\"bb\">\n",
       "<th class=\"bb lm lft\">Date\n",
       "            <th class=\"rgt bb\">Open\n",
       "            <th class=\"rgt bb\">High\n",
       "            <th class=\"rgt bb\">Low\n",
       "            <th class=\"rgt bb\">Close\n",
       "            <th class=\"rgt bb rm\">Volume\n",
       "        <tr>\n",
       "<td class=\"lm\">Feb 28, 2014\n",
       "            <td class=\"rgt\">100.71\n",
       "            <td class=\"rgt\">100.71\n",
       "            <td class=\"rgt\">100.71\n",
       "            <td class=\"rgt\">100.71\n",
       "            <td class=\"rgt rm\">0\n",
       "     </td></td></td></td></td></td></tr></th></th></th></th></th></th></tr></table>\n",
       "</div>"
      ]
     },
     "execution_count": 7,
     "metadata": {},
     "output_type": "execute_result"
    }
   ],
   "source": [
    "# 파이썬 표준 html파서\n",
    "BeautifulSoup(html, 'html.parser')"
   ]
  },
  {
   "cell_type": "markdown",
   "id": "e35ac02c",
   "metadata": {
    "id": "e35ac02c"
   },
   "source": [
    "## BS4 객체의 속성과 메서드"
   ]
  },
  {
   "cell_type": "code",
   "execution_count": 8,
   "id": "4b89207c",
   "metadata": {
    "ExecuteTime": {
     "end_time": "2023-12-07T05:15:17.661166Z",
     "start_time": "2023-12-07T05:15:17.656179Z"
    },
    "id": "4b89207c"
   },
   "outputs": [],
   "source": [
    "html_file = open('sample/market.html', encoding='utf-8')\n",
    "html_src = html_file.read()\n",
    "html_file.close()"
   ]
  },
  {
   "cell_type": "code",
   "execution_count": 9,
   "id": "1b61c23b",
   "metadata": {
    "ExecuteTime": {
     "end_time": "2023-12-07T05:15:18.194662Z",
     "start_time": "2023-12-07T05:15:18.190510Z"
    },
    "id": "1b61c23b"
   },
   "outputs": [
    {
     "data": {
      "text/plain": [
       "'<html>\\n    <body>\\n        <h1> 과일 목록 </h1>\\n        <div>\\n                <p id=\\'banana\\' class=\\'fruit\\' title=\\'바나나\\'>\\n                      <span class = \\'price\\'> 3000원 </span>\\n                      <span class = \\'count\\'> 10개 </span>\\n                      <span class = \\'store\\'> 바나나가게 </span>\\n                      <a href = \\'https://www.banana.com\\'> banana.com </a>\\n                </p>\\n                <p id=\\'cherry\\' class=\\'fruit\\' title=\\'체리\\'>\\n                    <span class = \\'price\\'> 100원 </span>\\n                    <span class = \\'count\\'> 50개 </span>\\n                    <span class = \\'store\\'> 체리가게</span>\\n                    <a href = \\'https://www.cherry.com\\'> cherry.com </a>\\n                </p>\\n                <p id=\\'orange\\' class=\\'fruit best\\' title=\\'오렌지\\'>\\n                    <span class = \\'price\\'> 500원 </span>\\n                    <span class = \\'count\\'> 20개 </span>\\n                    <span class = \\'store\\'> 오렌지가게</span>\\n                    <a href = \\'https://www.orange.com\\'> orange.com </a>\\n                    <span>\\n                        <a href=\"https://www.orange.blog/\">오렌지 효능</a>\\n                    </span>\\n                </p>\\n        </div>\\n    </body> \\n</html>'"
      ]
     },
     "execution_count": 9,
     "metadata": {},
     "output_type": "execute_result"
    }
   ],
   "source": [
    "html_src"
   ]
  },
  {
   "cell_type": "code",
   "execution_count": 10,
   "id": "e6c7123c",
   "metadata": {
    "ExecuteTime": {
     "end_time": "2023-12-07T05:15:27.642600Z",
     "start_time": "2023-12-07T05:15:27.633632Z"
    },
    "id": "e6c7123c"
   },
   "outputs": [
    {
     "name": "stdout",
     "output_type": "stream",
     "text": [
      "<html>\n",
      "    <body>\n",
      "        <h1> 과일 목록 </h1>\n",
      "        <div>\n",
      "                <p id='banana' class='fruit' title='바나나'>\n",
      "                      <span class = 'price'> 3000원 </span>\n",
      "                      <span class = 'count'> 10개 </span>\n",
      "                      <span class = 'store'> 바나나가게 </span>\n",
      "                      <a href = 'https://www.banana.com'> banana.com </a>\n",
      "                </p>\n",
      "                <p id='cherry' class='fruit' title='체리'>\n",
      "                    <span class = 'price'> 100원 </span>\n",
      "                    <span class = 'count'> 50개 </span>\n",
      "                    <span class = 'store'> 체리가게</span>\n",
      "                    <a href = 'https://www.cherry.com'> cherry.com </a>\n",
      "                </p>\n",
      "                <p id='orange' class='fruit best' title='오렌지'>\n",
      "                    <span class = 'price'> 500원 </span>\n",
      "                    <span class = 'count'> 20개 </span>\n",
      "                    <span class = 'store'> 오렌지가게</span>\n",
      "                    <a href = 'https://www.orange.com'> orange.com </a>\n",
      "                    <span>\n",
      "                        <a href=\"https://www.orange.blog/\">오렌지 효능</a>\n",
      "                    </span>\n",
      "                </p>\n",
      "        </div>\n",
      "    </body> \n",
      "</html>\n"
     ]
    }
   ],
   "source": [
    "print(html_src)"
   ]
  },
  {
   "cell_type": "code",
   "execution_count": 11,
   "id": "cc7cd17a",
   "metadata": {
    "ExecuteTime": {
     "end_time": "2023-12-07T05:17:33.182254Z",
     "start_time": "2023-12-07T05:17:33.177266Z"
    },
    "id": "cc7cd17a"
   },
   "outputs": [],
   "source": [
    "# DOM구조로 변환(구문 분석)\n",
    "soup = BeautifulSoup(html_src, 'lxml') # 객체화"
   ]
  },
  {
   "cell_type": "code",
   "execution_count": 12,
   "id": "990448e6",
   "metadata": {
    "ExecuteTime": {
     "end_time": "2023-12-07T05:17:36.026926Z",
     "start_time": "2023-12-07T05:17:36.015659Z"
    },
    "id": "990448e6"
   },
   "outputs": [
    {
     "data": {
      "text/plain": [
       "bs4.BeautifulSoup"
      ]
     },
     "execution_count": 12,
     "metadata": {},
     "output_type": "execute_result"
    }
   ],
   "source": [
    "type(soup) # 돔객체"
   ]
  },
  {
   "cell_type": "code",
   "execution_count": 13,
   "id": "99877cef",
   "metadata": {
    "ExecuteTime": {
     "end_time": "2023-12-07T05:17:36.411708Z",
     "start_time": "2023-12-07T05:17:36.399744Z"
    },
    "id": "99877cef",
    "scrolled": true
   },
   "outputs": [
    {
     "data": {
      "text/plain": [
       "<html>\n",
       "<body>\n",
       "<h1> 과일 목록 </h1>\n",
       "<div>\n",
       "<p class=\"fruit\" id=\"banana\" title=\"바나나\">\n",
       "<span class=\"price\"> 3000원 </span>\n",
       "<span class=\"count\"> 10개 </span>\n",
       "<span class=\"store\"> 바나나가게 </span>\n",
       "<a href=\"https://www.banana.com\"> banana.com </a>\n",
       "</p>\n",
       "<p class=\"fruit\" id=\"cherry\" title=\"체리\">\n",
       "<span class=\"price\"> 100원 </span>\n",
       "<span class=\"count\"> 50개 </span>\n",
       "<span class=\"store\"> 체리가게</span>\n",
       "<a href=\"https://www.cherry.com\"> cherry.com </a>\n",
       "</p>\n",
       "<p class=\"fruit best\" id=\"orange\" title=\"오렌지\">\n",
       "<span class=\"price\"> 500원 </span>\n",
       "<span class=\"count\"> 20개 </span>\n",
       "<span class=\"store\"> 오렌지가게</span>\n",
       "<a href=\"https://www.orange.com\"> orange.com </a>\n",
       "<span>\n",
       "<a href=\"https://www.orange.blog/\">오렌지 효능</a>\n",
       "</span>\n",
       "</p>\n",
       "</div>\n",
       "</body>\n",
       "</html>"
      ]
     },
     "execution_count": 13,
     "metadata": {},
     "output_type": "execute_result"
    }
   ],
   "source": [
    "soup"
   ]
  },
  {
   "cell_type": "markdown",
   "id": "d25562f1",
   "metadata": {
    "id": "d25562f1"
   },
   "source": [
    "### 메서드를 사용한 요소 탐색\n",
    "#### find\n",
    "```\n",
    "soup.find/find_all(태그, id=orange, class_= ‘fruit)\n",
    "# class는 예약어이기 때문에 class_으로 매개변수명을 구분함\n",
    "```\n",
    "* soup.find(name = \"요소명\") : 첫번째 요소 찾기  \n",
    "* soup.find(attrs = {\"속성\":\"값\"})\n",
    "* soup.find(속성 = \"값\") # 키워드 가변 인수\n",
    "* soup.find(string = \"텍스트\")\n",
    "* soup.find(recursive = \"True\")  # 기본값, 후손 요소 전체에서 검색\n",
    "* soup.find(reculsive = \"False\") # 직계 자식 내에서만 검색\n",
    "* soup.find_all() : 모든 요소 찾기\n",
    "    * name, attrs, string, **kwargs, recursive, limit(final_all에서만 가능, limit=2는 2개만 찾기)"
   ]
  },
  {
   "cell_type": "code",
   "execution_count": 14,
   "id": "4518576c",
   "metadata": {
    "ExecuteTime": {
     "end_time": "2023-12-07T05:19:07.276496Z",
     "start_time": "2023-12-07T05:19:07.265109Z"
    },
    "id": "4518576c"
   },
   "outputs": [],
   "source": [
    "soup.find?"
   ]
  },
  {
   "cell_type": "code",
   "execution_count": 15,
   "id": "d5264f55",
   "metadata": {
    "ExecuteTime": {
     "end_time": "2023-12-07T05:19:47.936084Z",
     "start_time": "2023-12-07T05:19:47.929791Z"
    },
    "hide_input": false,
    "id": "d5264f55"
   },
   "outputs": [
    {
     "data": {
      "text/plain": [
       "<p class=\"fruit\" id=\"banana\" title=\"바나나\">\n",
       "<span class=\"price\"> 3000원 </span>\n",
       "<span class=\"count\"> 10개 </span>\n",
       "<span class=\"store\"> 바나나가게 </span>\n",
       "<a href=\"https://www.banana.com\"> banana.com </a>\n",
       "</p>"
      ]
     },
     "execution_count": 15,
     "metadata": {},
     "output_type": "execute_result"
    }
   ],
   "source": [
    "soup.find('p')"
   ]
  },
  {
   "cell_type": "code",
   "execution_count": 16,
   "id": "2dd8fb4b",
   "metadata": {
    "ExecuteTime": {
     "end_time": "2023-12-07T05:20:16.364461Z",
     "start_time": "2023-12-07T05:20:16.357609Z"
    },
    "id": "2dd8fb4b"
   },
   "outputs": [
    {
     "data": {
      "text/plain": [
       "bs4.element.Tag"
      ]
     },
     "execution_count": 16,
     "metadata": {},
     "output_type": "execute_result"
    }
   ],
   "source": [
    "type(soup.find('p')) # 태그객체"
   ]
  },
  {
   "cell_type": "code",
   "execution_count": 17,
   "id": "8675e7b2",
   "metadata": {
    "ExecuteTime": {
     "end_time": "2023-12-07T05:20:30.779842Z",
     "start_time": "2023-12-07T05:20:30.774156Z"
    },
    "id": "8675e7b2"
   },
   "outputs": [
    {
     "data": {
      "text/plain": [
       "[<p class=\"fruit\" id=\"banana\" title=\"바나나\">\n",
       " <span class=\"price\"> 3000원 </span>\n",
       " <span class=\"count\"> 10개 </span>\n",
       " <span class=\"store\"> 바나나가게 </span>\n",
       " <a href=\"https://www.banana.com\"> banana.com </a>\n",
       " </p>,\n",
       " <p class=\"fruit\" id=\"cherry\" title=\"체리\">\n",
       " <span class=\"price\"> 100원 </span>\n",
       " <span class=\"count\"> 50개 </span>\n",
       " <span class=\"store\"> 체리가게</span>\n",
       " <a href=\"https://www.cherry.com\"> cherry.com </a>\n",
       " </p>,\n",
       " <p class=\"fruit best\" id=\"orange\" title=\"오렌지\">\n",
       " <span class=\"price\"> 500원 </span>\n",
       " <span class=\"count\"> 20개 </span>\n",
       " <span class=\"store\"> 오렌지가게</span>\n",
       " <a href=\"https://www.orange.com\"> orange.com </a>\n",
       " <span>\n",
       " <a href=\"https://www.orange.blog/\">오렌지 효능</a>\n",
       " </span>\n",
       " </p>]"
      ]
     },
     "execution_count": 17,
     "metadata": {},
     "output_type": "execute_result"
    }
   ],
   "source": [
    "soup.find_all('p')"
   ]
  },
  {
   "cell_type": "code",
   "execution_count": 18,
   "id": "8a893d0f",
   "metadata": {
    "ExecuteTime": {
     "end_time": "2023-12-07T05:21:46.830467Z",
     "start_time": "2023-12-07T05:21:46.815497Z"
    },
    "id": "8a893d0f"
   },
   "outputs": [
    {
     "data": {
      "text/plain": [
       "<p class=\"fruit best\" id=\"orange\" title=\"오렌지\">\n",
       "<span class=\"price\"> 500원 </span>\n",
       "<span class=\"count\"> 20개 </span>\n",
       "<span class=\"store\"> 오렌지가게</span>\n",
       "<a href=\"https://www.orange.com\"> orange.com </a>\n",
       "<span>\n",
       "<a href=\"https://www.orange.blog/\">오렌지 효능</a>\n",
       "</span>\n",
       "</p>"
      ]
     },
     "execution_count": 18,
     "metadata": {},
     "output_type": "execute_result"
    }
   ],
   "source": [
    "soup.find('p', id=\"orange\")"
   ]
  },
  {
   "cell_type": "code",
   "execution_count": 19,
   "id": "b619cc5e",
   "metadata": {
    "ExecuteTime": {
     "end_time": "2023-12-07T05:25:01.212204Z",
     "start_time": "2023-12-07T05:25:01.202229Z"
    },
    "id": "b619cc5e"
   },
   "outputs": [
    {
     "data": {
      "text/plain": [
       "[<p class=\"fruit\" id=\"banana\" title=\"바나나\">\n",
       " <span class=\"price\"> 3000원 </span>\n",
       " <span class=\"count\"> 10개 </span>\n",
       " <span class=\"store\"> 바나나가게 </span>\n",
       " <a href=\"https://www.banana.com\"> banana.com </a>\n",
       " </p>,\n",
       " <p class=\"fruit\" id=\"cherry\" title=\"체리\">\n",
       " <span class=\"price\"> 100원 </span>\n",
       " <span class=\"count\"> 50개 </span>\n",
       " <span class=\"store\"> 체리가게</span>\n",
       " <a href=\"https://www.cherry.com\"> cherry.com </a>\n",
       " </p>,\n",
       " <p class=\"fruit best\" id=\"orange\" title=\"오렌지\">\n",
       " <span class=\"price\"> 500원 </span>\n",
       " <span class=\"count\"> 20개 </span>\n",
       " <span class=\"store\"> 오렌지가게</span>\n",
       " <a href=\"https://www.orange.com\"> orange.com </a>\n",
       " <span>\n",
       " <a href=\"https://www.orange.blog/\">오렌지 효능</a>\n",
       " </span>\n",
       " </p>]"
      ]
     },
     "execution_count": 19,
     "metadata": {},
     "output_type": "execute_result"
    }
   ],
   "source": [
    "soup.find_all(class_='fruit')"
   ]
  },
  {
   "cell_type": "markdown",
   "id": "d78be75d",
   "metadata": {
    "id": "d78be75d"
   },
   "source": [
    "#### select\n",
    "* find와 select의 차이, (find는 태그방식) select는 css선택자 사용, 관계 연결 가능\n",
    "* find와 select와 조건 방식이 다름\n",
    "* find 와 select_one은 단일 태그값 만 반환\n",
    "* find_all과 select는 모든 tag를 list로 반환\n",
    "```\n",
    "soup.select/select_one(태그, '#orange', '.fruit')\n",
    "```\n",
    "* soup.select() : 모든 요소 찾기        --> CSS 선택자  * soup.select_one() : 첫번째 요소 찾기  "
   ]
  },
  {
   "cell_type": "code",
   "execution_count": 20,
   "id": "28726513",
   "metadata": {
    "ExecuteTime": {
     "end_time": "2023-12-07T05:27:05.286303Z",
     "start_time": "2023-12-07T05:27:05.280152Z"
    },
    "id": "28726513"
   },
   "outputs": [],
   "source": [
    "soup.select?"
   ]
  },
  {
   "cell_type": "code",
   "execution_count": 21,
   "id": "31a2d931",
   "metadata": {
    "ExecuteTime": {
     "end_time": "2023-12-07T05:27:37.126179Z",
     "start_time": "2023-12-07T05:27:37.119875Z"
    },
    "id": "31a2d931"
   },
   "outputs": [
    {
     "data": {
      "text/plain": [
       "[<p class=\"fruit\" id=\"banana\" title=\"바나나\">\n",
       " <span class=\"price\"> 3000원 </span>\n",
       " <span class=\"count\"> 10개 </span>\n",
       " <span class=\"store\"> 바나나가게 </span>\n",
       " <a href=\"https://www.banana.com\"> banana.com </a>\n",
       " </p>,\n",
       " <p class=\"fruit\" id=\"cherry\" title=\"체리\">\n",
       " <span class=\"price\"> 100원 </span>\n",
       " <span class=\"count\"> 50개 </span>\n",
       " <span class=\"store\"> 체리가게</span>\n",
       " <a href=\"https://www.cherry.com\"> cherry.com </a>\n",
       " </p>,\n",
       " <p class=\"fruit best\" id=\"orange\" title=\"오렌지\">\n",
       " <span class=\"price\"> 500원 </span>\n",
       " <span class=\"count\"> 20개 </span>\n",
       " <span class=\"store\"> 오렌지가게</span>\n",
       " <a href=\"https://www.orange.com\"> orange.com </a>\n",
       " <span>\n",
       " <a href=\"https://www.orange.blog/\">오렌지 효능</a>\n",
       " </span>\n",
       " </p>]"
      ]
     },
     "execution_count": 21,
     "metadata": {},
     "output_type": "execute_result"
    }
   ],
   "source": [
    "soup.select('p')"
   ]
  },
  {
   "cell_type": "code",
   "execution_count": 22,
   "id": "f12b4d06",
   "metadata": {
    "ExecuteTime": {
     "end_time": "2023-12-07T05:27:59.964738Z",
     "start_time": "2023-12-07T05:27:59.956463Z"
    },
    "id": "f12b4d06"
   },
   "outputs": [
    {
     "data": {
      "text/plain": [
       "<p class=\"fruit\" id=\"banana\" title=\"바나나\">\n",
       "<span class=\"price\"> 3000원 </span>\n",
       "<span class=\"count\"> 10개 </span>\n",
       "<span class=\"store\"> 바나나가게 </span>\n",
       "<a href=\"https://www.banana.com\"> banana.com </a>\n",
       "</p>"
      ]
     },
     "execution_count": 22,
     "metadata": {},
     "output_type": "execute_result"
    }
   ],
   "source": [
    "soup.select_one('p')"
   ]
  },
  {
   "cell_type": "code",
   "execution_count": 24,
   "id": "6663a709",
   "metadata": {
    "ExecuteTime": {
     "end_time": "2023-12-07T05:28:45.012352Z",
     "start_time": "2023-12-07T05:28:45.006598Z"
    },
    "id": "6663a709"
   },
   "outputs": [
    {
     "data": {
      "text/plain": [
       "[<p class=\"fruit best\" id=\"orange\" title=\"오렌지\">\n",
       " <span class=\"price\"> 500원 </span>\n",
       " <span class=\"count\"> 20개 </span>\n",
       " <span class=\"store\"> 오렌지가게</span>\n",
       " <a href=\"https://www.orange.com\"> orange.com </a>\n",
       " <span>\n",
       " <a href=\"https://www.orange.blog/\">오렌지 효능</a>\n",
       " </span>\n",
       " </p>]"
      ]
     },
     "execution_count": 24,
     "metadata": {},
     "output_type": "execute_result"
    }
   ],
   "source": [
    "# css셀렉터 문법\n",
    "soup.select('#orange') # #: id 속성"
   ]
  },
  {
   "cell_type": "code",
   "execution_count": 25,
   "id": "5c73af92",
   "metadata": {
    "ExecuteTime": {
     "end_time": "2023-12-07T05:29:04.169727Z",
     "start_time": "2023-12-07T05:29:04.163746Z"
    },
    "id": "5c73af92"
   },
   "outputs": [
    {
     "data": {
      "text/plain": [
       "<p class=\"fruit best\" id=\"orange\" title=\"오렌지\">\n",
       "<span class=\"price\"> 500원 </span>\n",
       "<span class=\"count\"> 20개 </span>\n",
       "<span class=\"store\"> 오렌지가게</span>\n",
       "<a href=\"https://www.orange.com\"> orange.com </a>\n",
       "<span>\n",
       "<a href=\"https://www.orange.blog/\">오렌지 효능</a>\n",
       "</span>\n",
       "</p>"
      ]
     },
     "execution_count": 25,
     "metadata": {},
     "output_type": "execute_result"
    }
   ],
   "source": [
    "soup.select_one('#orange')"
   ]
  },
  {
   "cell_type": "code",
   "execution_count": 26,
   "id": "80c24c1a",
   "metadata": {
    "ExecuteTime": {
     "end_time": "2023-12-07T05:29:31.440098Z",
     "start_time": "2023-12-07T05:29:31.429589Z"
    },
    "id": "80c24c1a"
   },
   "outputs": [
    {
     "data": {
      "text/plain": [
       "[<span class=\"price\"> 3000원 </span>,\n",
       " <span class=\"price\"> 100원 </span>,\n",
       " <span class=\"price\"> 500원 </span>]"
      ]
     },
     "execution_count": 26,
     "metadata": {},
     "output_type": "execute_result"
    }
   ],
   "source": [
    "soup.select('.price') # . : class 속성"
   ]
  },
  {
   "cell_type": "code",
   "execution_count": 27,
   "id": "bdd625c5",
   "metadata": {
    "ExecuteTime": {
     "end_time": "2023-12-07T05:30:17.412766Z",
     "start_time": "2023-12-07T05:30:17.402774Z"
    },
    "id": "bdd625c5"
   },
   "outputs": [
    {
     "data": {
      "text/plain": [
       "[<p class=\"fruit best\" id=\"orange\" title=\"오렌지\">\n",
       " <span class=\"price\"> 500원 </span>\n",
       " <span class=\"count\"> 20개 </span>\n",
       " <span class=\"store\"> 오렌지가게</span>\n",
       " <a href=\"https://www.orange.com\"> orange.com </a>\n",
       " <span>\n",
       " <a href=\"https://www.orange.blog/\">오렌지 효능</a>\n",
       " </span>\n",
       " </p>]"
      ]
     },
     "execution_count": 27,
     "metadata": {},
     "output_type": "execute_result"
    }
   ],
   "source": [
    "soup.select('p#orange') # 붙여씀: AND관계"
   ]
  },
  {
   "cell_type": "code",
   "execution_count": 28,
   "id": "8ed2e83a",
   "metadata": {
    "ExecuteTime": {
     "end_time": "2023-12-07T05:31:35.165516Z",
     "start_time": "2023-12-07T05:31:35.158548Z"
    },
    "id": "8ed2e83a"
   },
   "outputs": [
    {
     "data": {
      "text/plain": [
       "[<span class=\"store\"> 바나나가게 </span>,\n",
       " <a href=\"https://www.banana.com\"> banana.com </a>,\n",
       " <span class=\"store\"> 체리가게</span>,\n",
       " <a href=\"https://www.cherry.com\"> cherry.com </a>,\n",
       " <span class=\"store\"> 오렌지가게</span>,\n",
       " <a href=\"https://www.orange.com\"> orange.com </a>,\n",
       " <a href=\"https://www.orange.blog/\">오렌지 효능</a>]"
      ]
     },
     "execution_count": 28,
     "metadata": {},
     "output_type": "execute_result"
    }
   ],
   "source": [
    "# a태그 또는 스토어클래스에 해당하는 요소를 찾아줘\n",
    "soup.select('a, .store')  # , = OR 관계"
   ]
  },
  {
   "cell_type": "code",
   "execution_count": 29,
   "id": "b21f0647",
   "metadata": {
    "ExecuteTime": {
     "end_time": "2023-12-07T05:32:53.246082Z",
     "start_time": "2023-12-07T05:32:53.240099Z"
    },
    "id": "b21f0647"
   },
   "outputs": [
    {
     "data": {
      "text/plain": [
       "[<p class=\"fruit best\" id=\"orange\" title=\"오렌지\">\n",
       " <span class=\"price\"> 500원 </span>\n",
       " <span class=\"count\"> 20개 </span>\n",
       " <span class=\"store\"> 오렌지가게</span>\n",
       " <a href=\"https://www.orange.com\"> orange.com </a>\n",
       " <span>\n",
       " <a href=\"https://www.orange.blog/\">오렌지 효능</a>\n",
       " </span>\n",
       " </p>]"
      ]
     },
     "execution_count": 29,
     "metadata": {},
     "output_type": "execute_result"
    }
   ],
   "source": [
    "soup.select('.fruit.best') # 클래스값이 2개인 태그"
   ]
  },
  {
   "cell_type": "code",
   "execution_count": 30,
   "id": "239eb8a4",
   "metadata": {
    "ExecuteTime": {
     "end_time": "2023-12-07T05:34:24.607072Z",
     "start_time": "2023-12-07T05:34:24.600636Z"
    },
    "id": "239eb8a4"
   },
   "outputs": [
    {
     "data": {
      "text/plain": [
       "[<a href=\"https://www.orange.com\"> orange.com </a>]"
      ]
     },
     "execution_count": 30,
     "metadata": {},
     "output_type": "execute_result"
    }
   ],
   "source": [
    "soup.select('.fruit.best>a')"
   ]
  },
  {
   "cell_type": "code",
   "execution_count": 31,
   "id": "f90c9853",
   "metadata": {
    "ExecuteTime": {
     "end_time": "2023-12-07T05:36:17.989433Z",
     "start_time": "2023-12-07T05:36:17.976768Z"
    },
    "id": "f90c9853"
   },
   "outputs": [
    {
     "data": {
      "text/plain": [
       "[<a href=\"https://www.orange.com\"> orange.com </a>]"
      ]
     },
     "execution_count": 31,
     "metadata": {},
     "output_type": "execute_result"
    }
   ],
   "source": [
    "soup.select('.fruit.best > a') # > 자식관계(공백주의) )"
   ]
  },
  {
   "cell_type": "code",
   "execution_count": 32,
   "id": "1b14bc99",
   "metadata": {
    "ExecuteTime": {
     "end_time": "2023-12-07T05:37:28.943646Z",
     "start_time": "2023-12-07T05:37:28.937856Z"
    },
    "id": "1b14bc99"
   },
   "outputs": [
    {
     "data": {
      "text/plain": [
       "[<a href=\"https://www.orange.com\"> orange.com </a>,\n",
       " <a href=\"https://www.orange.blog/\">오렌지 효능</a>]"
      ]
     },
     "execution_count": 32,
     "metadata": {},
     "output_type": "execute_result"
    }
   ],
   "source": [
    "soup.select('.fruit.best a')# 공백 자손 관계"
   ]
  },
  {
   "cell_type": "code",
   "execution_count": 33,
   "id": "b2793802",
   "metadata": {
    "ExecuteTime": {
     "end_time": "2023-12-07T05:40:12.676144Z",
     "start_time": "2023-12-07T05:40:12.671168Z"
    },
    "id": "b2793802"
   },
   "outputs": [
    {
     "data": {
      "text/plain": [
       "[<a href=\"https://www.orange.blog/\">오렌지 효능</a>]"
      ]
     },
     "execution_count": 33,
     "metadata": {},
     "output_type": "execute_result"
    }
   ],
   "source": [
    "soup.select('.fruit.best > span > a')"
   ]
  },
  {
   "cell_type": "code",
   "execution_count": 34,
   "id": "9373a9e9",
   "metadata": {
    "ExecuteTime": {
     "end_time": "2023-12-07T05:42:16.171044Z",
     "start_time": "2023-12-07T05:42:16.159075Z"
    },
    "id": "9373a9e9"
   },
   "outputs": [
    {
     "data": {
      "text/plain": [
       "[<a href=\"https://www.orange.com\"> orange.com </a>,\n",
       " <a href=\"https://www.orange.blog/\">오렌지 효능</a>]"
      ]
     },
     "execution_count": 34,
     "metadata": {},
     "output_type": "execute_result"
    }
   ],
   "source": [
    "soup.select('.fruit.best a')"
   ]
  },
  {
   "cell_type": "code",
   "execution_count": 35,
   "id": "61014d36",
   "metadata": {
    "ExecuteTime": {
     "end_time": "2023-12-07T05:41:22.921117Z",
     "start_time": "2023-12-07T05:41:22.911047Z"
    },
    "id": "61014d36"
   },
   "outputs": [
    {
     "data": {
      "text/plain": [
       "bs4.element.ResultSet"
      ]
     },
     "execution_count": 35,
     "metadata": {},
     "output_type": "execute_result"
    }
   ],
   "source": [
    "mylist = soup.select('.fruit.best a')\n",
    "type(mylist)"
   ]
  },
  {
   "cell_type": "code",
   "execution_count": 36,
   "id": "3abde3e7",
   "metadata": {
    "ExecuteTime": {
     "end_time": "2023-12-07T05:42:00.301680Z",
     "start_time": "2023-12-07T05:42:00.294700Z"
    },
    "id": "3abde3e7"
   },
   "outputs": [
    {
     "data": {
      "text/plain": [
       "bs4.element.Tag"
      ]
     },
     "execution_count": 36,
     "metadata": {},
     "output_type": "execute_result"
    }
   ],
   "source": [
    "type(mylist[0])"
   ]
  },
  {
   "cell_type": "code",
   "execution_count": null,
   "id": "5e843760",
   "metadata": {
    "ExecuteTime": {
     "end_time": "2023-12-07T05:43:57.806447Z",
     "start_time": "2023-12-07T05:43:57.802952Z"
    },
    "id": "5e843760"
   },
   "outputs": [],
   "source": [
    "for tagItem in mylist :\n",
    "    print(tagItem.text)"
   ]
  },
  {
   "cell_type": "code",
   "execution_count": null,
   "id": "8ce469cc",
   "metadata": {
    "ExecuteTime": {
     "end_time": "2023-12-07T05:47:25.557748Z",
     "start_time": "2023-12-07T05:47:25.553738Z"
    },
    "id": "8ce469cc"
   },
   "outputs": [],
   "source": [
    "print(tagItem)"
   ]
  },
  {
   "cell_type": "code",
   "execution_count": null,
   "id": "35654f4c",
   "metadata": {
    "ExecuteTime": {
     "end_time": "2023-12-07T05:49:09.336831Z",
     "start_time": "2023-12-07T05:49:09.332842Z"
    },
    "id": "35654f4c"
   },
   "outputs": [],
   "source": [
    "for item in mylist :\n",
    "    print(item['href'])"
   ]
  },
  {
   "cell_type": "code",
   "execution_count": null,
   "id": "fc97d424",
   "metadata": {
    "ExecuteTime": {
     "end_time": "2023-12-07T06:02:12.932479Z",
     "start_time": "2023-12-07T06:02:12.927552Z"
    },
    "id": "fc97d424"
   },
   "outputs": [],
   "source": [
    "items = soup.select('.fruit')"
   ]
  },
  {
   "cell_type": "code",
   "execution_count": null,
   "id": "76d36ac8",
   "metadata": {
    "ExecuteTime": {
     "end_time": "2023-12-07T06:02:19.081227Z",
     "start_time": "2023-12-07T06:02:19.075725Z"
    },
    "id": "76d36ac8"
   },
   "outputs": [],
   "source": [
    "print(items)"
   ]
  },
  {
   "cell_type": "code",
   "execution_count": null,
   "id": "a78281c7",
   "metadata": {
    "ExecuteTime": {
     "end_time": "2023-12-05T13:36:28.562004Z",
     "start_time": "2023-12-05T13:36:28.556838Z"
    },
    "id": "a78281c7"
   },
   "outputs": [],
   "source": [
    "for item in items:\n",
    "    name = item['title']\n",
    "    price = item.find('span','price').text\n",
    "    count = item.find('span','count').text\n",
    "    store = item.find('span', 'store').text\n",
    "    print(name, price, count, store)"
   ]
  },
  {
   "cell_type": "markdown",
   "id": "10dace91",
   "metadata": {
    "id": "10dace91"
   },
   "source": [
    "### 요소의 속성 및 텍스트 반환\n",
    "e.name : 요소의 이름 얻기     \n",
    "e['속성명'] : 요소의 속성 얻기      \n",
    "e.attrs : 요소의 속성 목록(dict)     \n",
    "e.string : 요소의 텍스트     \n",
    "e.strings : 자식과 후손 요소 텍스트 목록(iter)    \n",
    "e.text : 자식과 후손 요소의 텍스트를 문자열로 얻기"
   ]
  },
  {
   "cell_type": "code",
   "execution_count": null,
   "id": "0dc09216",
   "metadata": {
    "ExecuteTime": {
     "end_time": "2023-12-07T06:10:18.071457Z",
     "start_time": "2023-12-07T06:10:18.063477Z"
    },
    "id": "0dc09216"
   },
   "outputs": [],
   "source": [
    "soup.find('p', id=\"orange\")"
   ]
  },
  {
   "cell_type": "code",
   "execution_count": null,
   "id": "8a0a840f",
   "metadata": {
    "ExecuteTime": {
     "end_time": "2023-12-07T06:10:26.133856Z",
     "start_time": "2023-12-07T06:10:26.129996Z"
    },
    "id": "8a0a840f"
   },
   "outputs": [],
   "source": [
    "e = soup.find('p', id=\"orange\")"
   ]
  },
  {
   "cell_type": "code",
   "execution_count": null,
   "id": "8968aa53",
   "metadata": {
    "ExecuteTime": {
     "end_time": "2023-12-07T06:10:35.256107Z",
     "start_time": "2023-12-07T06:10:35.245613Z"
    },
    "id": "8968aa53"
   },
   "outputs": [],
   "source": [
    "type(e)"
   ]
  },
  {
   "cell_type": "code",
   "execution_count": null,
   "id": "63b2e3d3",
   "metadata": {
    "ExecuteTime": {
     "end_time": "2023-12-07T06:10:57.534414Z",
     "start_time": "2023-12-07T06:10:57.530017Z"
    },
    "id": "63b2e3d3"
   },
   "outputs": [],
   "source": [
    "e.name"
   ]
  },
  {
   "cell_type": "code",
   "execution_count": null,
   "id": "082f335d",
   "metadata": {
    "ExecuteTime": {
     "end_time": "2023-12-07T06:11:07.339467Z",
     "start_time": "2023-12-07T06:11:07.334957Z"
    },
    "id": "082f335d"
   },
   "outputs": [],
   "source": [
    "e.attrs"
   ]
  },
  {
   "cell_type": "code",
   "execution_count": null,
   "id": "7b8e41f4",
   "metadata": {
    "ExecuteTime": {
     "end_time": "2023-12-07T06:11:43.060338Z",
     "start_time": "2023-12-07T06:11:43.055351Z"
    },
    "id": "7b8e41f4"
   },
   "outputs": [],
   "source": [
    "e['title']"
   ]
  },
  {
   "cell_type": "code",
   "execution_count": null,
   "id": "ad718583",
   "metadata": {
    "ExecuteTime": {
     "end_time": "2023-12-07T06:11:46.316919Z",
     "start_time": "2023-12-07T06:11:46.313298Z"
    },
    "id": "ad718583"
   },
   "outputs": [],
   "source": [
    "e.string"
   ]
  },
  {
   "cell_type": "code",
   "execution_count": null,
   "id": "2ccd774e",
   "metadata": {
    "ExecuteTime": {
     "end_time": "2023-12-07T06:11:46.832206Z",
     "start_time": "2023-12-07T06:11:46.826656Z"
    },
    "id": "2ccd774e"
   },
   "outputs": [],
   "source": [
    "print(e.string)"
   ]
  },
  {
   "cell_type": "code",
   "execution_count": null,
   "id": "d7680c6c",
   "metadata": {
    "ExecuteTime": {
     "end_time": "2023-12-07T06:11:51.906681Z",
     "start_time": "2023-12-07T06:11:51.902102Z"
    },
    "id": "d7680c6c"
   },
   "outputs": [],
   "source": [
    "e.strings"
   ]
  },
  {
   "cell_type": "code",
   "execution_count": null,
   "id": "bab1ea1d",
   "metadata": {
    "ExecuteTime": {
     "end_time": "2023-12-07T06:12:01.298648Z",
     "start_time": "2023-12-07T06:12:01.293403Z"
    },
    "id": "bab1ea1d"
   },
   "outputs": [],
   "source": [
    "for item in e.strings:\n",
    "    print(item)"
   ]
  },
  {
   "cell_type": "code",
   "execution_count": null,
   "id": "962ce532",
   "metadata": {
    "ExecuteTime": {
     "end_time": "2023-12-07T06:12:17.700314Z",
     "start_time": "2023-12-07T06:12:17.694330Z"
    },
    "id": "962ce532"
   },
   "outputs": [],
   "source": [
    "e.text"
   ]
  },
  {
   "cell_type": "markdown",
   "id": "66ef21d2",
   "metadata": {
    "id": "66ef21d2"
   },
   "source": [
    "### 트리 구조를 활용한 요소 탐색\n",
    "* e.요소명 : e 하위의 첫번째 요소\n",
    "* e.parent : 부모 요소\n",
    "* e.parents : 모든 조상 요소(iter)\n",
    "* e.contents : 모든 자식 요소(list)\n",
    "* e.children : 모든 자식 요소(iter)\n",
    "* e.descendants : 모든 후손 요소(iter)\n",
    "* e.previous_sibling : 바로 앞의 형제 요소\n",
    "* e.previous_siblings : 모든 앞의 형제 요소(iter)\n",
    "* e.next_sibling : 바로 뒤의 형제 요소\n",
    "* e.next_siblings : 모든 뒤의 형제 요소(iter)\n",
    "* e.previous_element : 바로 앞의 요소\n",
    "* e.previous_elements : 모든 앞에 있는 요소(iter)\n",
    "* e.next_element : 바로 뒤의 요소\n",
    "* e.next_elements : 모든 뒤에 있는 요소(iter)"
   ]
  },
  {
   "cell_type": "code",
   "execution_count": null,
   "id": "e48b5883",
   "metadata": {
    "ExecuteTime": {
     "end_time": "2023-12-07T06:16:58.298282Z",
     "start_time": "2023-12-07T06:16:58.291938Z"
    },
    "id": "e48b5883"
   },
   "outputs": [],
   "source": [
    "# 부모 요소\n",
    "e.parent"
   ]
  },
  {
   "cell_type": "code",
   "execution_count": null,
   "id": "52bb3ad1",
   "metadata": {
    "ExecuteTime": {
     "end_time": "2023-12-07T06:17:05.705275Z",
     "start_time": "2023-12-07T06:17:05.701581Z"
    },
    "id": "52bb3ad1"
   },
   "outputs": [],
   "source": [
    "# 모든 조상 요소\n",
    "e.parents"
   ]
  },
  {
   "cell_type": "code",
   "execution_count": null,
   "id": "27ccb30f",
   "metadata": {
    "ExecuteTime": {
     "end_time": "2023-12-07T06:17:13.498288Z",
     "start_time": "2023-12-07T06:17:13.494404Z"
    },
    "id": "27ccb30f"
   },
   "outputs": [],
   "source": [
    "for item in e.parents:\n",
    "    print(item.name)"
   ]
  },
  {
   "cell_type": "code",
   "execution_count": null,
   "id": "955cd1bb",
   "metadata": {
    "ExecuteTime": {
     "end_time": "2023-12-05T13:36:28.681843Z",
     "start_time": "2023-12-05T13:36:28.673911Z"
    },
    "id": "955cd1bb"
   },
   "outputs": [],
   "source": [
    "# 모든 자손 요소(list)\n",
    "e.contents"
   ]
  },
  {
   "cell_type": "code",
   "execution_count": null,
   "id": "41978f87",
   "metadata": {
    "ExecuteTime": {
     "end_time": "2023-12-07T06:18:14.265985Z",
     "start_time": "2023-12-07T06:18:14.259909Z"
    },
    "id": "41978f87"
   },
   "outputs": [],
   "source": [
    "# 모든 자식 요소(eter)\n",
    "e.children"
   ]
  },
  {
   "cell_type": "code",
   "execution_count": null,
   "id": "2e7e40f2",
   "metadata": {
    "ExecuteTime": {
     "end_time": "2023-12-07T06:18:27.863789Z",
     "start_time": "2023-12-07T06:18:27.857982Z"
    },
    "id": "2e7e40f2"
   },
   "outputs": [],
   "source": [
    "for item in e.children:\n",
    "    print(item.name)"
   ]
  }
 ],
 "metadata": {
  "colab": {
   "provenance": []
  },
  "kernelspec": {
   "display_name": "Python 3 (ipykernel)",
   "language": "python",
   "name": "python3"
  },
  "language_info": {
   "codemirror_mode": {
    "name": "ipython",
    "version": 3
   },
   "file_extension": ".py",
   "mimetype": "text/x-python",
   "name": "python",
   "nbconvert_exporter": "python",
   "pygments_lexer": "ipython3",
   "version": "3.11.5"
  },
  "toc": {
   "base_numbering": 1,
   "nav_menu": {},
   "number_sections": true,
   "sideBar": true,
   "skip_h1_title": false,
   "title_cell": "Table of Contents",
   "title_sidebar": "Contents",
   "toc_cell": false,
   "toc_position": {
    "height": "calc(100% - 180px)",
    "left": "10px",
    "top": "150px",
    "width": "307.2px"
   },
   "toc_section_display": true,
   "toc_window_display": false
  },
  "varInspector": {
   "cols": {
    "lenName": 16,
    "lenType": 16,
    "lenVar": 40
   },
   "kernels_config": {
    "python": {
     "delete_cmd_postfix": "",
     "delete_cmd_prefix": "del ",
     "library": "var_list.py",
     "varRefreshCmd": "print(var_dic_list())"
    },
    "r": {
     "delete_cmd_postfix": ") ",
     "delete_cmd_prefix": "rm(",
     "library": "var_list.r",
     "varRefreshCmd": "cat(var_dic_list()) "
    }
   },
   "types_to_exclude": [
    "module",
    "function",
    "builtin_function_or_method",
    "instance",
    "_Feature"
   ],
   "window_display": false
  }
 },
 "nbformat": 4,
 "nbformat_minor": 5
}
