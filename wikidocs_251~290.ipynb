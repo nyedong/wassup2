{
 "cells": [
  {
   "cell_type": "code",
   "execution_count": 1,
   "id": "e10ca1ff",
   "metadata": {},
   "outputs": [
    {
     "data": {
      "text/plain": [
       "' \\n클래스는 객체를 만들기 위해 변수와 메서드를 정의한 집합이며, 객체는 클래스에 의해 생성된 것.\\n각 객체는 해당 클래스의 인스턴스.\\n'"
      ]
     },
     "execution_count": 1,
     "metadata": {},
     "output_type": "execute_result"
    }
   ],
   "source": [
    "# 251\n",
    "''' \n",
    "클래스는 객체를 만들기 위해 변수와 메서드를 정의한 집합이며, 객체는 클래스에 의해 생성된 것.\n",
    "각 객체는 해당 클래스의 인스턴스.\n",
    "'''"
   ]
  },
  {
   "cell_type": "code",
   "execution_count": 2,
   "id": "53e3da60",
   "metadata": {},
   "outputs": [],
   "source": [
    "# 252\n",
    "class Human:\n",
    "    pass"
   ]
  },
  {
   "cell_type": "code",
   "execution_count": 5,
   "id": "6d989ff8",
   "metadata": {},
   "outputs": [
    {
     "data": {
      "text/plain": [
       "<__main__.Human at 0x22861738990>"
      ]
     },
     "execution_count": 5,
     "metadata": {},
     "output_type": "execute_result"
    }
   ],
   "source": [
    "# 253\n",
    "class Human:\n",
    "    pass\n",
    "\n",
    "areum = Human()\n",
    "areum   "
   ]
  },
  {
   "cell_type": "code",
   "execution_count": 10,
   "id": "705118b3",
   "metadata": {},
   "outputs": [
    {
     "name": "stdout",
     "output_type": "stream",
     "text": [
      "응애응애\n"
     ]
    },
    {
     "data": {
      "text/plain": [
       "<__main__.Human at 0x2286168c150>"
      ]
     },
     "execution_count": 10,
     "metadata": {},
     "output_type": "execute_result"
    }
   ],
   "source": [
    "# 254\n",
    "class Human:\n",
    "       def __init__(self):\n",
    "            print('응애응애')\n",
    "    \n",
    "areum = Human()\n",
    "areum"
   ]
  },
  {
   "cell_type": "code",
   "execution_count": 17,
   "id": "ece6d3c9",
   "metadata": {},
   "outputs": [
    {
     "name": "stdout",
     "output_type": "stream",
     "text": [
      "25\n"
     ]
    }
   ],
   "source": [
    "# 255\n",
    "class Human:\n",
    "    def __init__(self, name, age, sex):\n",
    "        self.name = name\n",
    "        self.age = age\n",
    "        self.sex = sex\n",
    "\n",
    "areum = Human('아름', 25,'여자')\n",
    "print(areum.age)"
   ]
  },
  {
   "cell_type": "code",
   "execution_count": 18,
   "id": "b27a5c33",
   "metadata": {},
   "outputs": [
    {
     "name": "stdout",
     "output_type": "stream",
     "text": [
      "이름:  아름 , 나이:  25 , 성별:  25\n"
     ]
    }
   ],
   "source": [
    "# 256\n",
    "\n",
    "print('이름: ', areum.name,',', '나이: ', areum.age, ',' , '성별: ', areum.age)"
   ]
  },
  {
   "cell_type": "code",
   "execution_count": 22,
   "id": "bc612e99",
   "metadata": {},
   "outputs": [
    {
     "name": "stdout",
     "output_type": "stream",
     "text": [
      "이름:  조아름 , 나이:  25 , 성별:  25\n"
     ]
    }
   ],
   "source": [
    "# 257\n",
    "\n",
    "class Human:\n",
    "    def __init__(self, name, age, sex):\n",
    "        self.name = name\n",
    "        self.age = age\n",
    "        self.sex = sex\n",
    "        \n",
    "    def who(self):\n",
    "        print('이름: ', self.name,',', '나이: ', self.age, ',' , '성별: ',self.sex)\n",
    "        \n",
    "areum = Human('조아름', 25,'여')\n",
    "areum.who()\n",
    "        "
   ]
  },
  {
   "cell_type": "code",
   "execution_count": 27,
   "id": "9f130f3c",
   "metadata": {},
   "outputs": [
    {
     "name": "stdout",
     "output_type": "stream",
     "text": [
      "이름:  불명 , 나이:  미상 , 성별:  모름\n"
     ]
    }
   ],
   "source": [
    "# 258\n",
    "\n",
    "class Human:\n",
    "    def __init__(self, name, age, sex):\n",
    "        self.name = name\n",
    "        self.age = age\n",
    "        self.sex = sex\n",
    "        \n",
    "    def who(self):\n",
    "        print('이름: ', self.name,',', '나이: ', self.age, ',' , '성별: ',self.sex)\n",
    "        \n",
    "    def setInfo(self, name, age, sex):\n",
    "        self.name = name\n",
    "        self.age = age\n",
    "        self.sex = sex\n",
    "        \n",
    "        \n",
    "areum = Human(\"불명\", \"미상\", \"모름\")\n",
    "areum.who()     "
   ]
  },
  {
   "cell_type": "code",
   "execution_count": 28,
   "id": "7e7e3b52",
   "metadata": {},
   "outputs": [
    {
     "name": "stdout",
     "output_type": "stream",
     "text": [
      "이름:  아름 , 나이:  25 , 성별:  여자\n"
     ]
    }
   ],
   "source": [
    "areum.setInfo(\"아름\", 25, \"여자\")\n",
    "areum.who() "
   ]
  },
  {
   "cell_type": "code",
   "execution_count": 29,
   "id": "ccac789e",
   "metadata": {},
   "outputs": [
    {
     "name": "stdout",
     "output_type": "stream",
     "text": [
      "나의 죽음을 알리지마라\n"
     ]
    }
   ],
   "source": [
    "# 259\n",
    "\n",
    "class Human:\n",
    "    def __init__(self, name, age, sex):\n",
    "        self.name = name\n",
    "        self.age = age\n",
    "        self.sex = sex\n",
    "        \n",
    "    def who(self):\n",
    "        print('이름: ', self.name,',', '나이: ', self.age, ',' , '성별: ',self.sex)\n",
    "        \n",
    "    def setInfo(self, name, age, sex):\n",
    "        self.name = name\n",
    "        self.age = age\n",
    "        self.sex = sex\n",
    "        \n",
    "    def __del__(self):\n",
    "        print(\"나의 죽음을 알리지마라\")\n",
    "        \n",
    "areum = Human(\"아름\", 25, \"여자\")\n",
    "del areum"
   ]
  },
  {
   "cell_type": "code",
   "execution_count": 40,
   "id": "636b6606",
   "metadata": {},
   "outputs": [
    {
     "name": "stdout",
     "output_type": "stream",
     "text": [
      "Oh my god\n"
     ]
    }
   ],
   "source": [
    "# 260\n",
    "# 클래스에 self파라미터를 지정해주지 않았으므로 클래스를 인스턴스화하여 나타내면 에러\n",
    "\n",
    "class OMG :\n",
    "    def print() :\n",
    "        print(\"Oh my god\")\n",
    "\n",
    "\n",
    "mystock = OMG()\n",
    "# mystock.print()\n",
    "OMG.print()\n",
    "\n"
   ]
  },
  {
   "cell_type": "code",
   "execution_count": 41,
   "id": "5afe354a",
   "metadata": {},
   "outputs": [],
   "source": [
    "# 261\n",
    "\n",
    "class Stock:\n",
    "    pass"
   ]
  },
  {
   "cell_type": "code",
   "execution_count": 44,
   "id": "33fa1743",
   "metadata": {},
   "outputs": [
    {
     "data": {
      "text/plain": [
       "'삼성전자'"
      ]
     },
     "execution_count": 44,
     "metadata": {},
     "output_type": "execute_result"
    }
   ],
   "source": [
    "# 262\n",
    "\n",
    "class Stock:\n",
    "    def __init__(self, name, code):\n",
    "        self.name = name\n",
    "        self.code = code\n",
    "    \n",
    "삼성 = Stock(\"삼성전자\", \"005930\")\n",
    "삼성.name"
   ]
  },
  {
   "cell_type": "code",
   "execution_count": 46,
   "id": "a8c35d60",
   "metadata": {},
   "outputs": [],
   "source": [
    "# 263\n",
    "\n",
    "class Stock:\n",
    "    def __init__(self, name, code):\n",
    "        self.name = name\n",
    "        self.code = code\n",
    "        \n",
    "    def set_name(self, name):\n",
    "        self.name = name\n",
    "        \n",
    "\n",
    "a = Stock(None, None)\n",
    "a.set_name(\"삼성전자\")"
   ]
  },
  {
   "cell_type": "code",
   "execution_count": 47,
   "id": "177d1622",
   "metadata": {},
   "outputs": [],
   "source": [
    "# 264\n",
    "class Stock:\n",
    "    def __init__(self, name, code):\n",
    "        self.name = name\n",
    "        self.code = code\n",
    "        \n",
    "    def set_name(self, name):\n",
    "        self.name = name\n",
    "        \n",
    "    def set_code(self, code):\n",
    "        self.code = code\n",
    "\n",
    "a = Stock(None, None)\n",
    "a.set_code(\"005930\")\n"
   ]
  },
  {
   "cell_type": "code",
   "execution_count": 48,
   "id": "e0650d35",
   "metadata": {},
   "outputs": [],
   "source": [
    "# 265\n",
    "\n",
    "class Stock:\n",
    "    def __init__(self, name, code):\n",
    "        self.name = name\n",
    "        self.code = code\n",
    "        \n",
    "    def set_name(self, name):\n",
    "        self.name = name\n",
    "        \n",
    "    def set_code(self, code):\n",
    "        self.code = code\n",
    "        \n",
    "    def get_name(self):\n",
    "        return self.name\n",
    "    \n",
    "    def get_code(self):\n",
    "        return self.code\n",
    "    \n",
    "삼성 = Stock(\"삼성전자\", \"005930\")"
   ]
  },
  {
   "cell_type": "code",
   "execution_count": 49,
   "id": "8759f612",
   "metadata": {},
   "outputs": [],
   "source": [
    "# 266\n",
    "\n",
    "class Stock:\n",
    "    def __init__(self, name, code, per, pbr, r):\n",
    "        self.name = name\n",
    "        self.code = code\n",
    "        self.per = per\n",
    "        self.pbr = pbr\n",
    "        self.r = r\n",
    "        \n",
    "    def set_name(self, name):\n",
    "        self.name = name\n",
    "        \n",
    "    def set_code(self, code):\n",
    "        self.code = code\n",
    "        \n",
    "    def get_name(self):\n",
    "        return self.name\n",
    "    \n",
    "    def get_code(self):\n",
    "        return self.code"
   ]
  },
  {
   "cell_type": "code",
   "execution_count": 50,
   "id": "e1595950",
   "metadata": {},
   "outputs": [],
   "source": [
    "# 267\n",
    "\n",
    "삼전 = Stock('삼성전자','005930', 15.79, 1.33, 2.83)"
   ]
  },
  {
   "cell_type": "code",
   "execution_count": 53,
   "id": "9f8f77fe",
   "metadata": {},
   "outputs": [],
   "source": [
    "# 268\n",
    "\n",
    "class Stock:\n",
    "    def __init__(self, name, code, per, pbr, r):\n",
    "        self.name = name\n",
    "        self.code = code\n",
    "        self.per = per\n",
    "        self.pbr = pbr\n",
    "        self.r = r\n",
    "        \n",
    "    def set_name(self, name):\n",
    "        self.name = name\n",
    "        \n",
    "    def set_code(self, code):\n",
    "        self.code = code\n",
    "        \n",
    "    def get_name(self):\n",
    "        return self.name\n",
    "    \n",
    "    def get_code(self):\n",
    "        return self.code\n",
    "    \n",
    "    def set_per(self, per):\n",
    "        self.per = per\n",
    "        \n",
    "    def set_pbr(self, pbr):\n",
    "        self.pbr = pbr\n",
    "        \n",
    "    def set_dividend(self, r):\n",
    "        self.r = r"
   ]
  },
  {
   "cell_type": "code",
   "execution_count": 55,
   "id": "91af5073",
   "metadata": {},
   "outputs": [
    {
     "name": "stdout",
     "output_type": "stream",
     "text": [
      "12.75\n"
     ]
    }
   ],
   "source": [
    "# 269\n",
    "\n",
    "삼전 = Stock('삼성전자','005930', 15.79, 1.33, 2.83)\n",
    "삼전.set_per(12.75)\n",
    "print(삼전.per)"
   ]
  },
  {
   "cell_type": "code",
   "execution_count": 59,
   "id": "f807c4b5",
   "metadata": {},
   "outputs": [
    {
     "name": "stdout",
     "output_type": "stream",
     "text": [
      "15.79\n",
      "8.7\n",
      "317.34\n"
     ]
    }
   ],
   "source": [
    "# 270\n",
    "삼전 = Stock('삼성전자','005930',15.79, 1.33, 2.83)\n",
    "현차 = Stock('현대차', '005380',8.70, 0.35, 4.27)\n",
    "lg전자 = Stock('LG전자','066570',317.34,0.69,1.37)\n",
    "\n",
    "주식종목 = list()\n",
    "주식종목.append(삼전)\n",
    "주식종목.append(현차)\n",
    "주식종목.append(lg전자)\n",
    "\n",
    "for i in range(3):\n",
    "    print(주식종목[i].per)\n"
   ]
  },
  {
   "cell_type": "code",
   "execution_count": 63,
   "id": "90bfc476",
   "metadata": {},
   "outputs": [
    {
     "name": "stdout",
     "output_type": "stream",
     "text": [
      "김민수\n",
      "100\n",
      "SC은행\n",
      "092-12-430633\n"
     ]
    }
   ],
   "source": [
    "# 271\n",
    "import random \n",
    "\n",
    "class Account:\n",
    "    def __init__(self, name, bal):\n",
    "        self.name = name\n",
    "        self.bal = bal\n",
    "        self.bank = 'SC은행' # 디폴트값 설정\n",
    "        \n",
    "        num1 = random.randint(0,999) # 숫자 생성\n",
    "        num2 = random.randint(0,99)\n",
    "        num3 = random.randint(0, 999999)\n",
    "        \n",
    "        num1 = str(num1).zfill(3) # 0으로 자릿수 채우기\n",
    "        num2 = str(num2).zfill(2)\n",
    "        num3 = str(num3).zfill(3)\n",
    "        \n",
    "        self.num = num1+'-'+num2+'-'+num3\n",
    "        \n",
    "\n",
    "kim = Account(\"김민수\", 100)\n",
    "print(kim.name)\n",
    "print(kim.bal)\n",
    "print(kim.bank)\n",
    "print(kim.num)"
   ]
  },
  {
   "cell_type": "code",
   "execution_count": 71,
   "id": "57fb7e89",
   "metadata": {},
   "outputs": [
    {
     "name": "stdout",
     "output_type": "stream",
     "text": [
      "1\n",
      "2\n"
     ]
    }
   ],
   "source": [
    "# 272\n",
    "\n",
    "class Account:\n",
    "    count = 0\n",
    "    def __init__(self, name, bal):\n",
    "        self.name = name\n",
    "        self.bal = bal\n",
    "        self.bank = 'SC은행' # 디폴트값 설정\n",
    "        \n",
    "        num1 = random.randint(0,999) # 숫자 생성\n",
    "        num2 = random.randint(0,99)\n",
    "        num3 = random.randint(0, 999999)\n",
    "        \n",
    "        num1 = str(num1).zfill(3) # 0으로 자릿수 채우기\n",
    "        num2 = str(num2).zfill(2)\n",
    "        num3 = str(num3).zfill(3)\n",
    "        \n",
    "        self.num = num1+'-'+num2+'-'+num3\n",
    "        \n",
    "        Account.count += 1\n",
    "        \n",
    "kim = Account(\"김민수\", 100)\n",
    "print(Account.count)\n",
    "lee = Account(\"이민수\", 100)\n",
    "print(Account.count)"
   ]
  },
  {
   "cell_type": "code",
   "execution_count": 72,
   "id": "01d1e9b7",
   "metadata": {},
   "outputs": [
    {
     "name": "stdout",
     "output_type": "stream",
     "text": [
      "2\n"
     ]
    }
   ],
   "source": [
    "# 273\n",
    "\n",
    "class Account:\n",
    "    count = 0\n",
    "    def __init__(self, name, bal):\n",
    "        self.name = name\n",
    "        self.bal = bal\n",
    "        self.bank = 'SC은행' # 디폴트값 설정\n",
    "        \n",
    "        num1 = random.randint(0,999) # 숫자 생성\n",
    "        num2 = random.randint(0,99)\n",
    "        num3 = random.randint(0, 999999)\n",
    "        \n",
    "        num1 = str(num1).zfill(3) # 0으로 자릿수 채우기\n",
    "        num2 = str(num2).zfill(2)\n",
    "        num3 = str(num3).zfill(3)\n",
    "        \n",
    "        self.num = num1+'-'+num2+'-'+num3\n",
    "        \n",
    "        Account.count += 1\n",
    "        \n",
    "    def get_account_num(self):\n",
    "        print(Account.count)\n",
    "        \n",
    "kim = Account(\"김민수\", 100)\n",
    "lee = Account(\"이민수\", 100)\n",
    "kim.get_account_num()\n"
   ]
  },
  {
   "cell_type": "code",
   "execution_count": 73,
   "id": "5312fd42",
   "metadata": {},
   "outputs": [],
   "source": [
    "# 274\n",
    "\n",
    "class Account:\n",
    "    count = 0\n",
    "    def __init__(self, name, bal):\n",
    "        self.name = name\n",
    "        self.bal = bal\n",
    "        self.bank = 'SC은행' # 디폴트값 설정\n",
    "        \n",
    "        num1 = random.randint(0,999) # 숫자 생성\n",
    "        num2 = random.randint(0,99)\n",
    "        num3 = random.randint(0, 999999)\n",
    "        \n",
    "        num1 = str(num1).zfill(3) # 0으로 자릿수 채우기\n",
    "        num2 = str(num2).zfill(2)\n",
    "        num3 = str(num3).zfill(3)\n",
    "        \n",
    "        self.num = num1+'-'+num2+'-'+num3\n",
    "        \n",
    "        Account.count += 1\n",
    "        \n",
    "    def get_account_num(self):\n",
    "        print(Account.count)\n",
    "        \n",
    "    def deposit(self, insert):\n",
    "        self.insert = insert\n",
    "        if insert >= 1:\n",
    "            self.bal += insert\n",
    "        "
   ]
  },
  {
   "cell_type": "code",
   "execution_count": 76,
   "id": "827aad90",
   "metadata": {},
   "outputs": [],
   "source": [
    "# 275\n",
    "\n",
    "class Account:\n",
    "    count = 0\n",
    "    def __init__(self, name, bal):\n",
    "        self.name = name\n",
    "        self.bal = bal\n",
    "        self.bank = 'SC은행' # 디폴트값 설정\n",
    "        \n",
    "        num1 = random.randint(0,999) # 숫자 생성\n",
    "        num2 = random.randint(0,99)\n",
    "        num3 = random.randint(0, 999999)\n",
    "        \n",
    "        num1 = str(num1).zfill(3) # 0으로 자릿수 채우기\n",
    "        num2 = str(num2).zfill(2)\n",
    "        num3 = str(num3).zfill(3)\n",
    "        \n",
    "        self.num = num1+'-'+num2+'-'+num3\n",
    "        \n",
    "        Account.count += 1\n",
    "        \n",
    "    def get_account_num(self):\n",
    "        print(Account.count)\n",
    "        \n",
    "    def deposit(self, insert):\n",
    "        self.insert = insert\n",
    "        if insert >= 1:\n",
    "            self.bal += insert\n",
    "        \n",
    "    def withdraw(self, out):\n",
    "        self.out = out\n",
    "        if out <= self.bal:\n",
    "            self.bal -= out"
   ]
  },
  {
   "cell_type": "code",
   "execution_count": 78,
   "id": "9343e48f",
   "metadata": {},
   "outputs": [
    {
     "name": "stdout",
     "output_type": "stream",
     "text": [
      "110\n"
     ]
    }
   ],
   "source": [
    "k = Account(\"kim\", 100)\n",
    "k.deposit(100)\n",
    "k.withdraw(90)\n",
    "print(k.bal)"
   ]
  },
  {
   "cell_type": "code",
   "execution_count": 80,
   "id": "a2127376",
   "metadata": {},
   "outputs": [
    {
     "name": "stdout",
     "output_type": "stream",
     "text": [
      "은행이름: SC은행, 예금주: 파이썬, 계좌번호: 509-39-946780, 잔고: 10000원\n"
     ]
    }
   ],
   "source": [
    "# 276\n",
    "\n",
    "class Account:\n",
    "    count = 0\n",
    "    def __init__(self, name, bal):\n",
    "        self.name = name\n",
    "        self.bal = bal\n",
    "        self.bank = 'SC은행' # 디폴트값 설정\n",
    "        \n",
    "        num1 = random.randint(0,999) # 숫자 생성\n",
    "        num2 = random.randint(0,99)\n",
    "        num3 = random.randint(0, 999999)\n",
    "        \n",
    "        num1 = str(num1).zfill(3) # 0으로 자릿수 채우기\n",
    "        num2 = str(num2).zfill(2)\n",
    "        num3 = str(num3).zfill(3)\n",
    "        \n",
    "        self.num = num1+'-'+num2+'-'+num3\n",
    "        \n",
    "        Account.count += 1\n",
    "        \n",
    "    def get_account_num(self):\n",
    "        print(Account.count)\n",
    "        \n",
    "    def deposit(self, insert):\n",
    "        self.insert = insert\n",
    "        if insert >= 1:\n",
    "            self.bal += insert\n",
    "        \n",
    "    def withdraw(self, out):\n",
    "        self.out = out\n",
    "        if out <= self.bal:\n",
    "            self.bal -= out\n",
    "            \n",
    "    def display_info(self):\n",
    "        print(f'은행이름: {self.bank}, 예금주: {self.name}, 계좌번호: {self.num}, 잔고: {self.bal}원')\n",
    "        \n",
    "p = Account(\"파이썬\", 10000)\n",
    "p.display_info()"
   ]
  },
  {
   "cell_type": "code",
   "execution_count": 83,
   "id": "c23a83ad",
   "metadata": {},
   "outputs": [
    {
     "name": "stdout",
     "output_type": "stream",
     "text": [
      "50500.0\n",
      "50500.0\n"
     ]
    }
   ],
   "source": [
    "# 277\n",
    "\n",
    "class Account:\n",
    "    count = 0 #모든 인스턴스가 공유하는 값이므로 클래스변수로\n",
    "    \n",
    "    def __init__(self, name, bal):\n",
    "        self.deposit_count = 0 \n",
    "        \n",
    "        self.name = name\n",
    "        self.bal = bal\n",
    "        self.bank = 'SC은행' # 디폴트값 설정\n",
    "        \n",
    "        num1 = random.randint(0,999) # 숫자 생성\n",
    "        num2 = random.randint(0,99)\n",
    "        num3 = random.randint(0, 999999)\n",
    "        \n",
    "        num1 = str(num1).zfill(3) # 0으로 자릿수 채우기\n",
    "        num2 = str(num2).zfill(2)\n",
    "        num3 = str(num3).zfill(3)\n",
    "        \n",
    "        self.num = num1+'-'+num2+'-'+num3\n",
    "        \n",
    "        Account.count += 1\n",
    "        \n",
    "    def get_account_num(self):\n",
    "        print(Account.count)\n",
    "        \n",
    "    def deposit(self, insert):\n",
    "        self.insert = insert\n",
    "        if insert >= 1:\n",
    "            self.bal += insert\n",
    "            self.deposit_count += 1\n",
    "            if self.deposit_count % 5 == 0:\n",
    "                self.bal *= 1.01\n",
    "        \n",
    "    def withdraw(self, out):\n",
    "        self.out = out\n",
    "        if out <= self.bal:\n",
    "            self.bal -= out\n",
    "            \n",
    "    def display_info(self):\n",
    "        print(f'은행이름: {self.bank}, 예금주: {self.name}, 계좌번호: {self.num}, 잔고: {self.bal}원')\n",
    "        \n",
    "p = Account(\"파이썬\", 10000)\n",
    "p.deposit(10000)\n",
    "p.deposit(10000)\n",
    "p.deposit(10000)\n",
    "p.deposit(5000)\n",
    "p.deposit(5000)\n",
    "print(p.bal)\n",
    "q = Account(\"파이썬\", 10000)\n",
    "q.deposit(10000)\n",
    "q.deposit(10000)\n",
    "q.deposit(10000)\n",
    "q.deposit(5000)\n",
    "q.deposit(5000)\n",
    "print(q.bal)"
   ]
  },
  {
   "cell_type": "code",
   "execution_count": 92,
   "id": "70e506bf",
   "metadata": {},
   "outputs": [
    {
     "name": "stdout",
     "output_type": "stream",
     "text": [
      "[<__main__.Account object at 0x0000022862821B10>, <__main__.Account object at 0x0000022862ACD6D0>, <__main__.Account object at 0x0000022862ACCA90>]\n"
     ]
    }
   ],
   "source": [
    "# 278\n",
    "\n",
    "p = Account(\"파이썬\", 10000000000)\n",
    "q = Account(\"자바\", 1002413245130)\n",
    "g = Account(\"구글\", 10000)\n",
    "\n",
    "l = list()\n",
    "l.append(p)\n",
    "l.append(q)\n",
    "l.append(g)\n",
    "print(l)"
   ]
  },
  {
   "cell_type": "code",
   "execution_count": 93,
   "id": "2572a68d",
   "metadata": {},
   "outputs": [
    {
     "name": "stdout",
     "output_type": "stream",
     "text": [
      "은행이름: SC은행, 예금주: 파이썬, 계좌번호: 301-95-812086, 잔고: 10000000000원\n",
      "은행이름: SC은행, 예금주: 자바, 계좌번호: 579-84-993265, 잔고: 1002413245130원\n"
     ]
    }
   ],
   "source": [
    "# 279\n",
    "\n",
    "class Account:\n",
    "    count = 0 #모든 인스턴스가 공유하는 값이므로 클래스변수로\n",
    "    \n",
    "    def __init__(self, name, bal):\n",
    "        self.deposit_count = 0 \n",
    "        \n",
    "        self.name = name\n",
    "        self.bal = bal\n",
    "        self.bank = 'SC은행' # 디폴트값 설정\n",
    "        \n",
    "        num1 = random.randint(0,999) # 숫자 생성\n",
    "        num2 = random.randint(0,99)\n",
    "        num3 = random.randint(0, 999999)\n",
    "        \n",
    "        num1 = str(num1).zfill(3) # 0으로 자릿수 채우기\n",
    "        num2 = str(num2).zfill(2)\n",
    "        num3 = str(num3).zfill(3)\n",
    "        \n",
    "        self.num = num1+'-'+num2+'-'+num3\n",
    "        \n",
    "        Account.count += 1\n",
    "        \n",
    "    def get_account_num(self):\n",
    "        print(Account.count)\n",
    "        \n",
    "    def deposit(self, insert):\n",
    "        self.insert = insert\n",
    "        if insert >= 1:\n",
    "            self.bal += insert\n",
    "            self.deposit_count += 1\n",
    "            if self.deposit_count % 5 == 0:\n",
    "                self.bal *= 1.01\n",
    "        \n",
    "    def withdraw(self, out):\n",
    "        self.out = out\n",
    "        if out <= self.bal:\n",
    "            self.bal -= out\n",
    "            \n",
    "    def display_info(self):\n",
    "        print(f'은행이름: {self.bank}, 예금주: {self.name}, 계좌번호: {self.num}, 잔고: {self.bal}원')\n",
    "            \n",
    "\n",
    "for i in l:\n",
    "    if i.bal >= 1000000:\n",
    "        i.display_info()"
   ]
  },
  {
   "cell_type": "code",
   "execution_count": 94,
   "id": "d9364dc9",
   "metadata": {},
   "outputs": [
    {
     "name": "stdout",
     "output_type": "stream",
     "text": [
      "[100, 200, 300]\n"
     ]
    }
   ],
   "source": [
    "# 280\n",
    "\n",
    "class Account:\n",
    "    count = 0 #모든 인스턴스가 공유하는 값이므로 클래스변수로\n",
    "    \n",
    "    def __init__(self, name, bal):\n",
    "        self.deposit_count = 0 \n",
    "        \n",
    "        self.log_in = []\n",
    "        self.log_out = []\n",
    "        \n",
    "        self.name = name\n",
    "        self.bal = bal\n",
    "        self.bank = 'SC은행' # 디폴트값 설정\n",
    "        \n",
    "        num1 = random.randint(0,999) # 숫자 생성\n",
    "        num2 = random.randint(0,99)\n",
    "        num3 = random.randint(0, 999999)\n",
    "        \n",
    "        num1 = str(num1).zfill(3) # 0으로 자릿수 채우기\n",
    "        num2 = str(num2).zfill(2)\n",
    "        num3 = str(num3).zfill(3)\n",
    "        \n",
    "        self.num = num1+'-'+num2+'-'+num3\n",
    "        \n",
    "        Account.count += 1\n",
    "        \n",
    "    def get_account_num(self):\n",
    "        print(Account.count)\n",
    "        \n",
    "    def deposit(self, insert):\n",
    "        self.insert = insert\n",
    "        self.log_in.append(insert)\n",
    "        \n",
    "        if insert >= 1:\n",
    "            self.bal += insert\n",
    "            self.deposit_count += 1\n",
    "            if self.deposit_count % 5 == 0:\n",
    "                self.bal *= 1.01\n",
    "            \n",
    "        \n",
    "    def withdraw(self, out):\n",
    "        self.out = out\n",
    "        self.log_out.append(out)\n",
    "        if out <= self.bal:\n",
    "            self.bal -= out\n",
    "            \n",
    "    def display_info(self):\n",
    "        print(f'은행이름: {self.bank}, 예금주: {self.name}, 계좌번호: {self.num}, 잔고: {self.bal}원')\n",
    "        \n",
    "    def deposit_history(self):\n",
    "        print(self.log_in)\n",
    "    \n",
    "    def withdraw_history(self):\n",
    "        print(self.log_out)\n",
    "        \n",
    "k = Account(\"Kim\", 1000)\n",
    "k.deposit(100)\n",
    "k.deposit(200)\n",
    "k.deposit(300)\n",
    "k.deposit_history()"
   ]
  },
  {
   "cell_type": "code",
   "execution_count": 97,
   "id": "b0119d88",
   "metadata": {},
   "outputs": [
    {
     "data": {
      "text/plain": [
       "2"
      ]
     },
     "execution_count": 97,
     "metadata": {},
     "output_type": "execute_result"
    }
   ],
   "source": [
    "# 281\n",
    "\n",
    "class 차:\n",
    "    def __init__(self, 바퀴, 가격):\n",
    "        self.바퀴 = 바퀴\n",
    "        self.가격 = 가격\n",
    "        \n",
    "car = 차(2, 1000)\n",
    "car.바퀴"
   ]
  },
  {
   "cell_type": "code",
   "execution_count": 98,
   "id": "ebc4f6be",
   "metadata": {},
   "outputs": [],
   "source": [
    "# 282\n",
    "\n",
    "class 자전차(차):\n",
    "    pass"
   ]
  },
  {
   "cell_type": "code",
   "execution_count": 99,
   "id": "3080ee30",
   "metadata": {},
   "outputs": [
    {
     "name": "stdout",
     "output_type": "stream",
     "text": [
      "100\n"
     ]
    }
   ],
   "source": [
    "# 283\n",
    "\n",
    "class 자전차(차):\n",
    "    def __init__(self, 바퀴, 가격):\n",
    "        self.바퀴 = 바퀴\n",
    "        self.가격 = 가격\n",
    "\n",
    "\n",
    "bicycle = 자전차(2, 100)\n",
    "print(bicycle.가격)"
   ]
  },
  {
   "cell_type": "code",
   "execution_count": 102,
   "id": "770ee868",
   "metadata": {},
   "outputs": [
    {
     "name": "stdout",
     "output_type": "stream",
     "text": [
      "시마노\n"
     ]
    }
   ],
   "source": [
    "# 284\n",
    "\n",
    "class 자전차(차):\n",
    "    def __init__(self, 바퀴, 가격, 구동계):\n",
    "        self.바퀴 = 바퀴\n",
    "        self.가격 = 가격\n",
    "        self.구동계 = 구동계\n",
    "\n",
    "\n",
    "bicycle = 자전차(2, 100, '시마노')\n",
    "print(bicycle.구동계)"
   ]
  },
  {
   "cell_type": "code",
   "execution_count": 104,
   "id": "3235bd03",
   "metadata": {},
   "outputs": [
    {
     "name": "stdout",
     "output_type": "stream",
     "text": [
      "바퀴수 4\n",
      "가격 1000\n"
     ]
    }
   ],
   "source": [
    "# 285\n",
    "\n",
    "class 자동차(차):\n",
    "    def __init__(self, 바퀴, 가격):\n",
    "        self.바퀴 = 바퀴\n",
    "        self.가격 = 가격\n",
    "        \n",
    "        \n",
    "    def 정보(self):\n",
    "        print('바퀴수', self.바퀴)\n",
    "        print('가격', self.가격)\n",
    "        \n",
    "car = 자동차(4, 1000)\n",
    "car.정보()"
   ]
  },
  {
   "cell_type": "code",
   "execution_count": 107,
   "id": "60be8388",
   "metadata": {},
   "outputs": [
    {
     "name": "stdout",
     "output_type": "stream",
     "text": [
      "바퀴수 2\n",
      "가격 100\n"
     ]
    }
   ],
   "source": [
    "# 286\n",
    "\n",
    "class 차():\n",
    "    def __init__(self, 바퀴, 가격, 구동계):\n",
    "        self.바퀴 = 바퀴\n",
    "        self.가격 = 가격\n",
    "        self.구동계 = 구동계\n",
    "    \n",
    "    def 정보(self):\n",
    "        print('바퀴수', self.바퀴)\n",
    "        print('가격', self.가격)\n",
    "        \n",
    "class 자전차(차):\n",
    "    pass\n",
    "        \n",
    "bicycle = 자전차(2, 100, '시마노')\n",
    "bicycle.정보()"
   ]
  },
  {
   "cell_type": "code",
   "execution_count": 109,
   "id": "70f34224",
   "metadata": {},
   "outputs": [
    {
     "name": "stdout",
     "output_type": "stream",
     "text": [
      "바퀴수 2\n",
      "가격 100\n",
      "구동계 시마노\n"
     ]
    }
   ],
   "source": [
    "# 287\n",
    "\n",
    "class 자전차(차):\n",
    "    def 정보(self):\n",
    "        print('바퀴수', self.바퀴)\n",
    "        print('가격', self.가격)\n",
    "        print('구동계', self.구동계)\n",
    "        \n",
    "bicycle = 자전차(2, 100, \"시마노\")\n",
    "bicycle.정보()"
   ]
  },
  {
   "cell_type": "code",
   "execution_count": 110,
   "id": "0c69323e",
   "metadata": {},
   "outputs": [
    {
     "name": "stdout",
     "output_type": "stream",
     "text": [
      "자식호출\n"
     ]
    }
   ],
   "source": [
    "# 288\n",
    "# 자식호출\n",
    "\n",
    "class 부모:\n",
    "    def 호출(self):\n",
    "        print(\"부모호출\")\n",
    "\n",
    "class 자식(부모):\n",
    "    def 호출(self):\n",
    "        print(\"자식호출\")\n",
    "\n",
    "\n",
    "나 = 자식()\n",
    "나.호출()"
   ]
  },
  {
   "cell_type": "code",
   "execution_count": 111,
   "id": "852e69f8",
   "metadata": {},
   "outputs": [
    {
     "name": "stdout",
     "output_type": "stream",
     "text": [
      "자식생성\n"
     ]
    }
   ],
   "source": [
    "# 289\n",
    "# 자식생성\n",
    "\n",
    "class 부모:\n",
    "    def __init__(self):\n",
    "        print(\"부모생성\")\n",
    "\n",
    "class 자식(부모):\n",
    "    def __init__(self):\n",
    "        print(\"자식생성\")\n",
    "\n",
    "나 = 자식()\n",
    "\n"
   ]
  },
  {
   "cell_type": "code",
   "execution_count": 112,
   "id": "0d49e569",
   "metadata": {},
   "outputs": [
    {
     "name": "stdout",
     "output_type": "stream",
     "text": [
      "자식생성\n",
      "부모생성\n"
     ]
    }
   ],
   "source": [
    "# 290\n",
    "# 자식생성 부모생성\n",
    "\n",
    "class 부모:\n",
    "  def __init__(self):\n",
    "    print(\"부모생성\")\n",
    "\n",
    "class 자식(부모):\n",
    "  def __init__(self):\n",
    "    print(\"자식생성\")\n",
    "    super().__init__()\n",
    "\n",
    "나 = 자식()\n"
   ]
  }
 ],
 "metadata": {
  "kernelspec": {
   "display_name": "Python 3 (ipykernel)",
   "language": "python",
   "name": "python3"
  },
  "language_info": {
   "codemirror_mode": {
    "name": "ipython",
    "version": 3
   },
   "file_extension": ".py",
   "mimetype": "text/x-python",
   "name": "python",
   "nbconvert_exporter": "python",
   "pygments_lexer": "ipython3",
   "version": "3.11.5"
  },
  "toc": {
   "base_numbering": 1,
   "nav_menu": {},
   "number_sections": true,
   "sideBar": true,
   "skip_h1_title": false,
   "title_cell": "Table of Contents",
   "title_sidebar": "Contents",
   "toc_cell": false,
   "toc_position": {},
   "toc_section_display": true,
   "toc_window_display": false
  }
 },
 "nbformat": 4,
 "nbformat_minor": 5
}
