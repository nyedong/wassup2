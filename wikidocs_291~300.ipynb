{
 "cells": [
  {
   "cell_type": "code",
   "execution_count": 2,
   "id": "4f7ad4ca",
   "metadata": {},
   "outputs": [],
   "source": [
    "# 291\n",
    "f = open('C:/Users/User/Desktop/매주종목1.txt', 'w')\n",
    "f.write('005930\\n')\n",
    "f.write(\"005380\\n\")\n",
    "f.write(\"035420\")\n",
    "f.close()"
   ]
  },
  {
   "cell_type": "code",
   "execution_count": 3,
   "id": "c2c907ed",
   "metadata": {},
   "outputs": [],
   "source": [
    "# 292\n",
    "f = open('C:/Users/User/Desktop/매주종목2.txt', 'w')\n",
    "f.write('005930 삼성전자\\n')\n",
    "f.write(\"005380 현재차\\n\")\n",
    "f.write(\"035420 naver\")\n",
    "f.close()"
   ]
  },
  {
   "cell_type": "code",
   "execution_count": 38,
   "id": "61afedba",
   "metadata": {},
   "outputs": [
    {
     "name": "stdout",
     "output_type": "stream",
     "text": [
      "['005930 삼성전자', '005380 현재차', '035420 naver', '']\n"
     ]
    },
    {
     "data": {
      "text/plain": [
       "<function TextIOWrapper.close()>"
      ]
     },
     "execution_count": 38,
     "metadata": {},
     "output_type": "execute_result"
    }
   ],
   "source": [
    "# 294\n",
    "\n",
    "f = open('C:/Users/User/Desktop/매주종목2.txt', 'r')\n",
    "a = []\n",
    "while True:\n",
    "    l = f.readline().strip() # \\n제거\n",
    "    a.append(l)\n",
    "    if not l:\n",
    "        break\n",
    "print(a)\n",
    "f.close"
   ]
  },
  {
   "cell_type": "code",
   "execution_count": 42,
   "id": "c7a64a03",
   "metadata": {},
   "outputs": [
    {
     "name": "stdout",
     "output_type": "stream",
     "text": [
      "{'005930': '삼성전자', '005380': '현재차', '035420': 'naver'}\n"
     ]
    },
    {
     "data": {
      "text/plain": [
       "<function TextIOWrapper.close()>"
      ]
     },
     "execution_count": 42,
     "metadata": {},
     "output_type": "execute_result"
    }
   ],
   "source": [
    "# 295\n",
    "f = open('C:/Users/User/Desktop/매주종목2.txt', 'r')\n",
    "d = {}\n",
    "r = f.readlines()\n",
    "\n",
    "for i in r:\n",
    "    reading = i.strip()\n",
    "    k, v = i.split()\n",
    "    d[k] = v\n",
    "    \n",
    "       \n",
    "print(d)\n",
    "f.close"
   ]
  },
  {
   "cell_type": "code",
   "execution_count": 45,
   "id": "4aba6b3c",
   "metadata": {},
   "outputs": [
    {
     "name": "stdout",
     "output_type": "stream",
     "text": [
      "10.31\n",
      "0\n",
      "8.0\n"
     ]
    }
   ],
   "source": [
    "# 296\n",
    "per = [\"10.31\", \"\", \"8.00\"]\n",
    "\n",
    "for i in per:\n",
    "    try:\n",
    "        print(float(i))\n",
    "    except:\n",
    "        print(0)"
   ]
  },
  {
   "cell_type": "code",
   "execution_count": 50,
   "id": "1d69a7da",
   "metadata": {},
   "outputs": [
    {
     "name": "stdout",
     "output_type": "stream",
     "text": [
      "8.0\n"
     ]
    }
   ],
   "source": [
    "# 297\n",
    "\n",
    "per = [\"10.31\", \"\", \"8.00\"]\n",
    "result = []\n",
    "\n",
    "for i in per:\n",
    "    try:\n",
    "        a = float(i)\n",
    "        \n",
    "    except:\n",
    "       a = 0\n",
    "    result.append(a)\n",
    "    \n",
    "print(a)\n"
   ]
  },
  {
   "cell_type": "code",
   "execution_count": 54,
   "id": "0a4921d3",
   "metadata": {},
   "outputs": [
    {
     "name": "stdout",
     "output_type": "stream",
     "text": [
      "0으로 나눌 수 없음\n"
     ]
    },
    {
     "data": {
      "text/plain": [
       "1.6666666666666667"
      ]
     },
     "execution_count": 54,
     "metadata": {},
     "output_type": "execute_result"
    }
   ],
   "source": [
    "# 298\n",
    "def div(a,b):\n",
    "    try:\n",
    "        return a/b\n",
    "    except ZeroDivisionError:\n",
    "        print('0으로 나눌 수 없음')\n",
    "\n",
    "div(4,0)\n",
    "div(5,3)"
   ]
  },
  {
   "cell_type": "code",
   "execution_count": 58,
   "id": "8b25ab7d",
   "metadata": {},
   "outputs": [
    {
     "name": "stdout",
     "output_type": "stream",
     "text": [
      "1\n",
      "2\n",
      "3\n",
      "list index out of range\n",
      "list index out of range\n"
     ]
    }
   ],
   "source": [
    "# 299\n",
    "\n",
    "data = [1, 2, 3]\n",
    "\n",
    "for i in range(5):\n",
    "    try:\n",
    "        print(data[i])\n",
    "    except IndexError as ie:\n",
    "        print(ie)\n"
   ]
  },
  {
   "cell_type": "code",
   "execution_count": 60,
   "id": "77e88466",
   "metadata": {},
   "outputs": [
    {
     "name": "stdout",
     "output_type": "stream",
     "text": [
      "0\n",
      "실수전환\n",
      "0\n",
      "실수전환\n",
      "0\n",
      "실수전환\n"
     ]
    }
   ],
   "source": [
    "# 300\n",
    "\n",
    "per = [\"10.31\", \"\", \"8.00\"]\n",
    "\n",
    "for i in per:\n",
    "    try:\n",
    "        print(float(per))\n",
    "    except:\n",
    "        print(0)\n",
    "    else:\n",
    "        print('실수로 전환 성공')\n",
    "    finally:\n",
    "        print('실수전환')"
   ]
  }
 ],
 "metadata": {
  "kernelspec": {
   "display_name": "Python 3 (ipykernel)",
   "language": "python",
   "name": "python3"
  },
  "language_info": {
   "codemirror_mode": {
    "name": "ipython",
    "version": 3
   },
   "file_extension": ".py",
   "mimetype": "text/x-python",
   "name": "python",
   "nbconvert_exporter": "python",
   "pygments_lexer": "ipython3",
   "version": "3.11.5"
  },
  "toc": {
   "base_numbering": 1,
   "nav_menu": {},
   "number_sections": true,
   "sideBar": true,
   "skip_h1_title": false,
   "title_cell": "Table of Contents",
   "title_sidebar": "Contents",
   "toc_cell": false,
   "toc_position": {},
   "toc_section_display": true,
   "toc_window_display": false
  }
 },
 "nbformat": 4,
 "nbformat_minor": 5
}
