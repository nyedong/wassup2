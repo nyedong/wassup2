{
 "cells": [
  {
   "cell_type": "markdown",
   "id": "32d72770",
   "metadata": {},
   "source": [
    "# 클래스"
   ]
  },
  {
   "cell_type": "code",
   "execution_count": 1,
   "id": "34c6ba18",
   "metadata": {},
   "outputs": [
    {
     "name": "stdout",
     "output_type": "stream",
     "text": [
      "3\n",
      "7\n"
     ]
    }
   ],
   "source": [
    "# 계산기 프로그램을 함수로 만들기\n",
    "# calculator.py\n",
    "result = 0\n",
    "\n",
    "def add(num):\n",
    "    global result\n",
    "    result += num  # 결괏값(result)에 입력값(num) 더하기\n",
    "    return result  # 결괏값 리턴\n",
    "\n",
    "print(add(3))\n",
    "print(add(4))\n"
   ]
  },
  {
   "cell_type": "code",
   "execution_count": 2,
   "id": "fe7cbe3d",
   "metadata": {},
   "outputs": [
    {
     "name": "stdout",
     "output_type": "stream",
     "text": [
      "3\n",
      "7\n",
      "3\n",
      "10\n"
     ]
    }
   ],
   "source": [
    "# calculator2.py\n",
    "result1 = 0\n",
    "result2 = 0\n",
    "\n",
    "def add1(num):  # 계산기1\n",
    "    global result1\n",
    "    result1 += num\n",
    "    return result1\n",
    "\n",
    "def add2(num):  # 계산기2\n",
    "    global result2\n",
    "    result2 += num\n",
    "    return result2\n",
    "\n",
    "print(add1(3))\n",
    "print(add1(4))\n",
    "print(add2(3))\n",
    "print(add2(7))\n"
   ]
  },
  {
   "cell_type": "code",
   "execution_count": 3,
   "id": "ace41fe2",
   "metadata": {},
   "outputs": [
    {
     "name": "stdout",
     "output_type": "stream",
     "text": [
      "3\n",
      "7\n",
      "3\n",
      "10\n"
     ]
    }
   ],
   "source": [
    "# calculator3.py\n",
    "class Calculator:\n",
    "    def __init__(self):\n",
    "        self.result = 0\n",
    "\n",
    "    def add(self, num):\n",
    "        self.result += num\n",
    "        return self.result\n",
    "\n",
    "cal1 = Calculator()\n",
    "cal2 = Calculator()\n",
    "\n",
    "print(cal1.add(3))\n",
    "print(cal1.add(4))\n",
    "print(cal2.add(3))\n",
    "print(cal2.add(7))\n"
   ]
  },
  {
   "cell_type": "code",
   "execution_count": null,
   "id": "58696b38",
   "metadata": {},
   "outputs": [],
   "source": []
  },
  {
   "cell_type": "code",
   "execution_count": 7,
   "id": "84b7dc23",
   "metadata": {},
   "outputs": [],
   "source": [
    "class cookie:\n",
    "    pass\n"
   ]
  },
  {
   "cell_type": "code",
   "execution_count": 8,
   "id": "0ee34fa8",
   "metadata": {},
   "outputs": [
    {
     "data": {
      "text/plain": [
       "<__main__.cookie at 0x165fd74f6d0>"
      ]
     },
     "execution_count": 8,
     "metadata": {},
     "output_type": "execute_result"
    }
   ],
   "source": [
    "a = cookie()\n",
    "a # cookie라는 객체로 만들어진 인스턴스"
   ]
  },
  {
   "cell_type": "code",
   "execution_count": 9,
   "id": "4efd3ea0",
   "metadata": {},
   "outputs": [
    {
     "data": {
      "text/plain": [
       "('python', str)"
      ]
     },
     "execution_count": 9,
     "metadata": {},
     "output_type": "execute_result"
    }
   ],
   "source": [
    "b='python'\n",
    "b,type(b)"
   ]
  },
  {
   "cell_type": "markdown",
   "id": "b67a2ad0",
   "metadata": {},
   "source": [
    "## 사칙연산 클래스 만들기\n",
    "```\n",
    "클래스 안에서 동작하는 함수 :매서드 - 메서드의 첫 번째 매개변수 이름은 클래스의 인스턴스 자신\n",
    "클래스는 반드시 첫글자 대문자(변수구분 위해)\n",
    "```"
   ]
  },
  {
   "cell_type": "code",
   "execution_count": 10,
   "id": "aae7238b",
   "metadata": {},
   "outputs": [
    {
     "data": {
      "text/plain": [
       "(<__main__.Fourcal at 0x165fd770f90>, __main__.Fourcal)"
      ]
     },
     "execution_count": 10,
     "metadata": {},
     "output_type": "execute_result"
    }
   ],
   "source": [
    "class Fourcal:\n",
    "    pass\n",
    "\n",
    "a = Fourcal()\n",
    "a, type(a)"
   ]
  },
  {
   "cell_type": "code",
   "execution_count": 15,
   "id": "45a3a79b",
   "metadata": {},
   "outputs": [],
   "source": [
    "class FourCal:\n",
    "    def setdata(self, first, second): #first, second : 인스턴스 변수(객체변수)\n",
    "        self.first = first\n",
    "        self.second = second\n",
    "\n",
    "a = FourCal()\n",
    "a.setdata(3,4)"
   ]
  },
  {
   "cell_type": "code",
   "execution_count": 18,
   "id": "5d37b952",
   "metadata": {},
   "outputs": [],
   "source": [
    "FourCal.setdata(a,3,4)"
   ]
  },
  {
   "cell_type": "code",
   "execution_count": 19,
   "id": "b1d84be4",
   "metadata": {},
   "outputs": [
    {
     "data": {
      "text/plain": [
       "3"
      ]
     },
     "execution_count": 19,
     "metadata": {},
     "output_type": "execute_result"
    }
   ],
   "source": [
    "a.first #객체변수 -> 괄호 없음. 값만 들어있음. 값을 가지고오거나 출력정도만 가능"
   ]
  },
  {
   "cell_type": "code",
   "execution_count": 20,
   "id": "7921bb94",
   "metadata": {},
   "outputs": [
    {
     "data": {
      "text/plain": [
       "4"
      ]
     },
     "execution_count": 20,
     "metadata": {},
     "output_type": "execute_result"
    }
   ],
   "source": [
    "a.second"
   ]
  },
  {
   "cell_type": "code",
   "execution_count": 22,
   "id": "5a87147c",
   "metadata": {},
   "outputs": [
    {
     "data": {
      "text/plain": [
       "4"
      ]
     },
     "execution_count": 22,
     "metadata": {},
     "output_type": "execute_result"
    }
   ],
   "source": [
    "a = FourCal()\n",
    "b = FourCal()\n",
    "\n",
    "a.setdata(4,2) # 함수라 괄호있음\n",
    "a.first"
   ]
  },
  {
   "cell_type": "code",
   "execution_count": 23,
   "id": "9d5fce77",
   "metadata": {},
   "outputs": [
    {
     "data": {
      "text/plain": [
       "3"
      ]
     },
     "execution_count": 23,
     "metadata": {},
     "output_type": "execute_result"
    }
   ],
   "source": [
    "b.setdata(3,7)\n",
    "b.first"
   ]
  },
  {
   "cell_type": "code",
   "execution_count": 24,
   "id": "30e2dc39",
   "metadata": {},
   "outputs": [],
   "source": [
    "class FourCal:\n",
    "    def setdata(self, first, second):\n",
    "        self.first = first\n",
    "        self.second = second\n",
    "    def add(self):\n",
    "        result = self.first + self.second\n",
    "        return result\n"
   ]
  },
  {
   "cell_type": "code",
   "execution_count": 25,
   "id": "8765ddf1",
   "metadata": {},
   "outputs": [],
   "source": [
    "a = FourCal()"
   ]
  },
  {
   "cell_type": "code",
   "execution_count": 26,
   "id": "d3103d79",
   "metadata": {},
   "outputs": [],
   "source": [
    "a.setdata(4,2)"
   ]
  },
  {
   "cell_type": "code",
   "execution_count": 27,
   "id": "a8e6a832",
   "metadata": {},
   "outputs": [
    {
     "data": {
      "text/plain": [
       "6"
      ]
     },
     "execution_count": 27,
     "metadata": {},
     "output_type": "execute_result"
    }
   ],
   "source": [
    "a.add()"
   ]
  },
  {
   "cell_type": "code",
   "execution_count": 28,
   "id": "ba1477b9",
   "metadata": {},
   "outputs": [],
   "source": [
    "class FourCal:\n",
    "    def setdata(self, first, second):\n",
    "        self.first = first\n",
    "        self.second = second\n",
    "        \n",
    "    def add(self):\n",
    "        result = self.first + self.second\n",
    "        return result\n",
    "    \n",
    "    def sub(self):\n",
    "        result = self.first - self.second\n",
    "        return result\n",
    "    \n",
    "    def mul(self):\n",
    "            result = self.first * self.second\n",
    "            return result\n",
    "            \n",
    "    def div(self):\n",
    "        result = self.first / self.second\n",
    "        return result\n",
    "    \n"
   ]
  },
  {
   "cell_type": "code",
   "execution_count": 33,
   "id": "3524bdc9",
   "metadata": {},
   "outputs": [
    {
     "name": "stdout",
     "output_type": "stream",
     "text": [
      "13 7 3.3333333333333335 30\n"
     ]
    }
   ],
   "source": [
    "a = FourCal()\n",
    "a.setdata(10,3)\n",
    "print(a.add(), a.sub(), a.div(), a.mul())"
   ]
  },
  {
   "cell_type": "code",
   "execution_count": 34,
   "id": "ae7be032",
   "metadata": {},
   "outputs": [],
   "source": [
    "class FourCal:\n",
    "    def __init__(self, first, second): # 생성자(__init__매서드): 객체가 생성되는 시점에 자동으로 호출됨 -> setdata와 이름만 다르고 동일한 역할이므로 setdata안해도됨\n",
    "        self.first = first\n",
    "        self.second = second\n",
    "    def setdata(self, first, second):\n",
    "        self.first = first\n",
    "        self.second = second\n",
    "    def add(self):\n",
    "        result = self.first + self.second\n",
    "        return result\n",
    "    def mul(self):\n",
    "        result = self.first * self.second\n",
    "        return result\n",
    "    def sub(self):\n",
    "        result = self.first - self.second\n",
    "        return result\n",
    "    def div(self):\n",
    "        result = self.first / self.second\n",
    "        return result\n",
    "\n"
   ]
  },
  {
   "cell_type": "code",
   "execution_count": 36,
   "id": "b7ad95f2",
   "metadata": {},
   "outputs": [],
   "source": [
    "a = FourCal(4,2)"
   ]
  },
  {
   "cell_type": "code",
   "execution_count": 37,
   "id": "28f9c56b",
   "metadata": {},
   "outputs": [
    {
     "data": {
      "text/plain": [
       "4"
      ]
     },
     "execution_count": 37,
     "metadata": {},
     "output_type": "execute_result"
    }
   ],
   "source": [
    "a.first"
   ]
  },
  {
   "cell_type": "code",
   "execution_count": 38,
   "id": "9dc8c9a2",
   "metadata": {},
   "outputs": [
    {
     "data": {
      "text/plain": [
       "6"
      ]
     },
     "execution_count": 38,
     "metadata": {},
     "output_type": "execute_result"
    }
   ],
   "source": [
    "a.add()"
   ]
  },
  {
   "cell_type": "markdown",
   "id": "2a2b2657",
   "metadata": {},
   "source": [
    "## 클래스의 상속\n",
    ": 보통 상속은 기존 클래스를 변경하지 않고 기능을 추가하거나 기존 기능을 변경하려고 할 때 사용. 기존 클래스가 라이브러리 형태로 제공되거나 수정이 허용되지 않는 상황이라면 상속을 사용해야 함\n",
    "> class 클래스이름(상속할 클래스 이름)"
   ]
  },
  {
   "cell_type": "code",
   "execution_count": 39,
   "id": "cc83b11d",
   "metadata": {},
   "outputs": [],
   "source": [
    "class MoreFourCal(FourCal):\n",
    "    pass"
   ]
  },
  {
   "cell_type": "code",
   "execution_count": 40,
   "id": "ada681ab",
   "metadata": {},
   "outputs": [],
   "source": [
    "a = MoreFourCal(4, 2)"
   ]
  },
  {
   "cell_type": "code",
   "execution_count": 41,
   "id": "68306303",
   "metadata": {},
   "outputs": [
    {
     "data": {
      "text/plain": [
       "(6, 2.0)"
      ]
     },
     "execution_count": 41,
     "metadata": {},
     "output_type": "execute_result"
    }
   ],
   "source": [
    "a.add(), a.div()"
   ]
  },
  {
   "cell_type": "code",
   "execution_count": 42,
   "id": "ef3b48dc",
   "metadata": {},
   "outputs": [],
   "source": [
    "class MoreFourCal(FourCal):\n",
    "    def pow(self):\n",
    "        result = self.first ** self.second\n",
    "        return result"
   ]
  },
  {
   "cell_type": "code",
   "execution_count": 43,
   "id": "f6af2bb0",
   "metadata": {},
   "outputs": [],
   "source": [
    "a = MoreFourCal(4, 2)"
   ]
  },
  {
   "cell_type": "code",
   "execution_count": 44,
   "id": "52980430",
   "metadata": {},
   "outputs": [
    {
     "data": {
      "text/plain": [
       "(16, 6)"
      ]
     },
     "execution_count": 44,
     "metadata": {},
     "output_type": "execute_result"
    }
   ],
   "source": [
    "a.pow(), a.add()"
   ]
  },
  {
   "cell_type": "markdown",
   "id": "76cf88d0",
   "metadata": {},
   "source": [
    "## 매서드 오버라이딩\n",
    ": 앞의 클래스에서 정의했던 함수를 상속하며 덮어쓰기 "
   ]
  },
  {
   "cell_type": "code",
   "execution_count": 46,
   "id": "8c8804fa",
   "metadata": {},
   "outputs": [],
   "source": [
    "a = FourCal(4, 0)\n",
    "# a.div() -> error"
   ]
  },
  {
   "cell_type": "code",
   "execution_count": 47,
   "id": "e0c1c041",
   "metadata": {},
   "outputs": [],
   "source": [
    "class SafeFourCal(FourCal):\n",
    "    def div(self):\n",
    "        if self.second == 0:\n",
    "            return 0\n",
    "        else:\n",
    "            return self.first / self.second"
   ]
  },
  {
   "cell_type": "code",
   "execution_count": 49,
   "id": "e3fd186d",
   "metadata": {},
   "outputs": [
    {
     "data": {
      "text/plain": [
       "0"
      ]
     },
     "execution_count": 49,
     "metadata": {},
     "output_type": "execute_result"
    }
   ],
   "source": [
    "a = SafeFourCal(4,0)\n",
    "a.div()"
   ]
  },
  {
   "cell_type": "markdown",
   "id": "9ad2af61",
   "metadata": {},
   "source": [
    "## 클래스 변수\n",
    "```\n",
    "객체변수는 다른 객체들의 영향을 받지 않고 독립적으로 그 값을 유지한다\n",
    "클래스변수는 객체변수와 달리 클래스로 만든 모든 객체에 공유된다는 특징이 있다\n",
    "```"
   ]
  },
  {
   "cell_type": "code",
   "execution_count": 50,
   "id": "751cdb89",
   "metadata": {},
   "outputs": [],
   "source": [
    "class Family:\n",
    "    lastname = '김' # 클래스변수\n",
    "    "
   ]
  },
  {
   "cell_type": "code",
   "execution_count": 51,
   "id": "f57db8fb",
   "metadata": {},
   "outputs": [
    {
     "data": {
      "text/plain": [
       "'김'"
      ]
     },
     "execution_count": 51,
     "metadata": {},
     "output_type": "execute_result"
    }
   ],
   "source": [
    "Family.lastname"
   ]
  },
  {
   "cell_type": "code",
   "execution_count": 52,
   "id": "4f5ca2ab",
   "metadata": {},
   "outputs": [
    {
     "data": {
      "text/plain": [
       "'김'"
      ]
     },
     "execution_count": 52,
     "metadata": {},
     "output_type": "execute_result"
    }
   ],
   "source": [
    "a = Family()\n",
    "a.lastname"
   ]
  },
  {
   "cell_type": "code",
   "execution_count": 53,
   "id": "70c55e52",
   "metadata": {},
   "outputs": [
    {
     "data": {
      "text/plain": [
       "'박'"
      ]
     },
     "execution_count": 53,
     "metadata": {},
     "output_type": "execute_result"
    }
   ],
   "source": [
    "Family.lastname = \"박\"\n",
    "a.lastname"
   ]
  },
  {
   "cell_type": "code",
   "execution_count": 56,
   "id": "ab0e0031",
   "metadata": {},
   "outputs": [
    {
     "data": {
      "text/plain": [
       "'박'"
      ]
     },
     "execution_count": 56,
     "metadata": {},
     "output_type": "execute_result"
    }
   ],
   "source": [
    "b= Family()\n",
    "b.lastname"
   ]
  },
  {
   "cell_type": "code",
   "execution_count": 57,
   "id": "292889d8",
   "metadata": {},
   "outputs": [],
   "source": [
    "a.lastname = '최'"
   ]
  },
  {
   "cell_type": "code",
   "execution_count": 58,
   "id": "218848f0",
   "metadata": {},
   "outputs": [
    {
     "data": {
      "text/plain": [
       "'최'"
      ]
     },
     "execution_count": 58,
     "metadata": {},
     "output_type": "execute_result"
    }
   ],
   "source": [
    "a.lastname"
   ]
  },
  {
   "cell_type": "code",
   "execution_count": null,
   "id": "1d3d5390",
   "metadata": {
    "scrolled": true
   },
   "outputs": [],
   "source": [
    "b.lastname"
   ]
  },
  {
   "cell_type": "markdown",
   "id": "784ff00b",
   "metadata": {},
   "source": [
    "# 예외처리\n",
    "```\n",
    "try:\n",
    "    ...\n",
    "except [발생오류 [as 오류변수]]:\n",
    "    ...\n",
    "```\n",
    "- 오류 종류 상관없이 오류 발생시 except블록 수행\n",
    "```\n",
    "try:\n",
    "    ...\n",
    "except:\n",
    "    ...\n",
    "```\n",
    "- 오류가 발생했을 때 except 문에 미리 정해 놓은 오류와 동일한 오류일 경우에만 except 블록을 수행\n",
    "```\n",
    "try:\n",
    "    ...\n",
    "except 발생오류:\n",
    "    ...\n",
    "```\n",
    "- 오류의 내용까지 알고 싶을 때 사용(해당 오류를 변수로 받아 핸들링가능) -> 가장 많이 쓰임\n",
    "```\n",
    "try:\n",
    "    ...\n",
    "except 발생오류 as 오류변수:\n",
    "    ...\n",
    "```"
   ]
  },
  {
   "cell_type": "code",
   "execution_count": 3,
   "id": "023fb413",
   "metadata": {},
   "outputs": [
    {
     "name": "stdout",
     "output_type": "stream",
     "text": [
      "error\n"
     ]
    }
   ],
   "source": [
    "# try_except.py\n",
    "try:\n",
    "    4 / 0\n",
    "except:\n",
    "    print('error')\n"
   ]
  },
  {
   "cell_type": "code",
   "execution_count": 4,
   "id": "1d669e50",
   "metadata": {},
   "outputs": [
    {
     "name": "stdout",
     "output_type": "stream",
     "text": [
      "division by zero\n"
     ]
    }
   ],
   "source": [
    "# try_except.py\n",
    "try:\n",
    "    4 / 0\n",
    "except ZeroDivisionError as e:\n",
    "    print(e)\n"
   ]
  },
  {
   "cell_type": "code",
   "execution_count": 5,
   "id": "a0ae9a29",
   "metadata": {},
   "outputs": [
    {
     "name": "stdout",
     "output_type": "stream",
     "text": [
      "list index out of range\n"
     ]
    }
   ],
   "source": [
    "try:\n",
    "    a = [1,2]\n",
    "    print(a[3])\n",
    "    4/0\n",
    "except ZeroDivisionError as e:\n",
    "    print(e)\n",
    "except IndexError as e:\n",
    "    print(e)\n"
   ]
  },
  {
   "cell_type": "markdown",
   "id": "22fe0662",
   "metadata": {},
   "source": [
    "## try-else\n",
    "```\n",
    "try:\n",
    "    ...\n",
    "except [발생오류 [as 오류변수]]:\n",
    "    ...\n",
    "else:  # 오류가 없을 경우에만 수행\n",
    "    ...\n",
    "```"
   ]
  },
  {
   "cell_type": "code",
   "execution_count": 7,
   "id": "7aca2cdc",
   "metadata": {},
   "outputs": [
    {
     "name": "stdout",
     "output_type": "stream",
     "text": [
      "나이를 입력하세요: 20\n",
      "환영합니다.\n"
     ]
    }
   ],
   "source": [
    "# try_else.py\n",
    "try:\n",
    "    age=int(input('나이를 입력하세요: '))\n",
    "except:\n",
    "    print('입력이 정확하지 않습니다.')\n",
    "else:\n",
    "    if age <= 18:\n",
    "        print('미성년자는 출입금지입니다.')\n",
    "    else:\n",
    "        print('환영합니다.')\n"
   ]
  },
  {
   "cell_type": "markdown",
   "id": "68aa477f",
   "metadata": {},
   "source": [
    "## 오류회피\n",
    ":  특정 오류가 발생할 경우 그냥 통과시켜야 할 때 -> pass"
   ]
  },
  {
   "cell_type": "code",
   "execution_count": 8,
   "id": "b5c6fb29",
   "metadata": {},
   "outputs": [],
   "source": [
    "# error_pass.py\n",
    "try:\n",
    "    f = open(\"나없는파일\", 'r')\n",
    "except FileNotFoundError:\n",
    "    pass\n"
   ]
  },
  {
   "cell_type": "markdown",
   "id": "8859d612",
   "metadata": {},
   "source": [
    "- 오류 일부러 발생시키기도 가능함"
   ]
  },
  {
   "cell_type": "code",
   "execution_count": null,
   "id": "5d68dab3",
   "metadata": {},
   "outputs": [],
   "source": []
  }
 ],
 "metadata": {
  "kernelspec": {
   "display_name": "Python 3 (ipykernel)",
   "language": "python",
   "name": "python3"
  },
  "language_info": {
   "codemirror_mode": {
    "name": "ipython",
    "version": 3
   },
   "file_extension": ".py",
   "mimetype": "text/x-python",
   "name": "python",
   "nbconvert_exporter": "python",
   "pygments_lexer": "ipython3",
   "version": "3.11.5"
  },
  "toc": {
   "base_numbering": 1,
   "nav_menu": {
    "height": "157.431px",
    "width": "434.375px"
   },
   "number_sections": true,
   "sideBar": true,
   "skip_h1_title": false,
   "title_cell": "Table of Contents",
   "title_sidebar": "Contents",
   "toc_cell": false,
   "toc_position": {},
   "toc_section_display": true,
   "toc_window_display": false
  }
 },
 "nbformat": 4,
 "nbformat_minor": 5
}
